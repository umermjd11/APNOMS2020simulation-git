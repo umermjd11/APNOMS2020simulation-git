{
 "cells": [
  {
   "cell_type": "code",
   "execution_count": null,
   "id": "e11465df-22df-45f2-84d1-f3a6e28c24e1",
   "metadata": {
    "colab": {},
    "colab_type": "code",
    "id": "riNTxZEtvMcS"
   },
   "outputs": [],
   "source": [
    "import pandas as pd"
   ]
  },
  {
   "cell_type": "code",
   "execution_count": null,
   "id": "c3eb342a-4f5f-4b5d-90b2-33cc0cb93854",
   "metadata": {
    "colab": {},
    "colab_type": "code",
    "id": "DirUarD3w_vI"
   },
   "outputs": [],
   "source": [
    "from sklearn.preprocessing import LabelEncoder\n",
    "le= LabelEncoder()"
   ]
  },
  {
   "cell_type": "code",
   "execution_count": null,
   "id": "6b65c1de-73e2-4f1d-9bee-9c29b9667d3c",
   "metadata": {
    "colab": {},
    "colab_type": "code",
    "id": "bSiY5E8Evsj0"
   },
   "outputs": [],
   "source": [
    "datasetScenearioA120 = pd.read_csv(\"datasetScenearioA120.csv\", header=None, \n",
    " names=['duration',\n",
    " 'total_fiat',\n",
    " 'total_biat',\n",
    " 'min_fiat',\n",
    " 'min_biat',\n",
    " 'max_fiat',\n",
    " 'max_biat',\n",
    " 'mean_fiat',\n",
    " 'mean_biat',\n",
    " 'flowPktsPerSecond',\n",
    " 'flowBytesPerSecond',\n",
    " 'min_flowiat',\n",
    " 'max_flowiat',\n",
    " 'mean_flowiat',\n",
    " 'std_flowiat',\n",
    " 'min_active',\n",
    " 'mean_active',\n",
    " 'max_active',\n",
    " 'std_active',\n",
    " 'min_idle',\n",
    " 'mean_idle',\n",
    " 'max_idle',\n",
    " 'std_idle',\n",
    " 'class'])\n",
    "\n",
    "datasetScenearioA120['encoded_class']=le.fit_transform(datasetScenearioA120['class'])"
   ]
  },
  {
   "cell_type": "code",
   "execution_count": 14,
   "id": "0387884e-2b9b-4783-a18e-7f1d47555c22",
   "metadata": {
    "colab": {
     "base_uri": "https://localhost:8080/",
     "height": 35
    },
    "colab_type": "code",
    "executionInfo": {
     "elapsed": 693,
     "status": "ok",
     "timestamp": 1584766171937,
     "user": {
      "displayName": "MAJEED UMER[학생](대학원 컴퓨터공학과) ‍",
      "photoUrl": "",
      "userId": "09904507153320373005"
     },
     "user_tz": -540
    },
    "id": "HH5f2hJrxHYN",
    "outputId": "18e23e77-43eb-4b94-dcd3-13918e8eccc6"
   },
   "outputs": [
    {
     "data": {
      "text/plain": [
       "array(['Non-VPN', 'VPN'], dtype=object)"
      ]
     },
     "execution_count": 14,
     "metadata": {
      "tags": []
     },
     "output_type": "execute_result"
    }
   ],
   "source": [
    "le.classes_"
   ]
  },
  {
   "cell_type": "code",
   "execution_count": 15,
   "id": "3add2cc7-29c0-42e5-93f6-146324a8df79",
   "metadata": {
    "colab": {
     "base_uri": "https://localhost:8080/",
     "height": 35
    },
    "colab_type": "code",
    "executionInfo": {
     "elapsed": 424,
     "status": "ok",
     "timestamp": 1584766173086,
     "user": {
      "displayName": "MAJEED UMER[학생](대학원 컴퓨터공학과) ‍",
      "photoUrl": "",
      "userId": "09904507153320373005"
     },
     "user_tz": -540
    },
    "id": "6Eb4YKy9xJhp",
    "outputId": "5af3546e-2dab-4e73-a54d-28e4d803334a"
   },
   "outputs": [
    {
     "name": "stdout",
     "output_type": "stream",
     "text": [
      "{'Non-VPN': 0, 'VPN': 1}\n"
     ]
    }
   ],
   "source": [
    "le_name_mapping = dict(zip(le.classes_, le.transform(le.classes_)))\n",
    "print(le_name_mapping)"
   ]
  },
  {
   "cell_type": "code",
   "execution_count": null,
   "id": "604cfeee-f44f-4e72-b5fa-79fa252b6c02",
   "metadata": {
    "colab": {},
    "colab_type": "code",
    "id": "EoBpo8VynCZG"
   },
   "outputs": [],
   "source": [
    "datasetScenearioA120=datasetScenearioA120.drop(columns=['class'])\n",
    "\n",
    "datasetA120Norm=((datasetScenearioA120-datasetScenearioA120.mean())/(datasetScenearioA120.std()))\n",
    "\n",
    "datasetA120Norm['encoded_class']=datasetScenearioA120['encoded_class']"
   ]
  },
  {
   "cell_type": "code",
   "execution_count": null,
   "id": "4deb51d5-5b98-469f-af86-5bba6cf4e264",
   "metadata": {
    "colab": {},
    "colab_type": "code",
    "id": "Dwc3N4QiWwQ1"
   },
   "outputs": [],
   "source": [
    "datasetScenearioA60 = pd.read_csv(\"datasetScenearioA60.csv\", header=None, \n",
    " names=['duration',\n",
    " 'total_fiat',\n",
    " 'total_biat',\n",
    " 'min_fiat',\n",
    " 'min_biat',\n",
    " 'max_fiat',\n",
    " 'max_biat',\n",
    " 'mean_fiat',\n",
    " 'mean_biat',\n",
    " 'flowPktsPerSecond',\n",
    " 'flowBytesPerSecond',\n",
    " 'min_flowiat',\n",
    " 'max_flowiat',\n",
    " 'mean_flowiat',\n",
    " 'std_flowiat',\n",
    " 'min_active',\n",
    " 'mean_active',\n",
    " 'max_active',\n",
    " 'std_active',\n",
    " 'min_idle',\n",
    " 'mean_idle',\n",
    " 'max_idle',\n",
    " 'std_idle',\n",
    " 'class'])\n",
    "\n",
    "datasetScenearioA60['encoded_class']=le.fit_transform(datasetScenearioA60['class'])\n",
    "\n",
    "datasetScenearioA60=datasetScenearioA60.drop(columns=['class'])\n",
    "\n",
    "\n",
    "datasetA60Norm=((datasetScenearioA60-datasetScenearioA60.mean())/(datasetScenearioA60.std()))\n",
    "\n",
    "datasetA60Norm['encoded_class']=datasetScenearioA60['encoded_class']"
   ]
  },
  {
   "cell_type": "code",
   "execution_count": null,
   "id": "78dc70b5-2526-47ac-8d07-92806118938e",
   "metadata": {
    "colab": {},
    "colab_type": "code",
    "id": "o4xmhuQ0W3_o"
   },
   "outputs": [],
   "source": [
    "datasetScenearioA30 = pd.read_csv(\"datasetScenearioA30.csv\", header=None, \n",
    " names=['duration',\n",
    " 'total_fiat',\n",
    " 'total_biat',\n",
    " 'min_fiat',\n",
    " 'min_biat',\n",
    " 'max_fiat',\n",
    " 'max_biat',\n",
    " 'mean_fiat',\n",
    " 'mean_biat',\n",
    " 'flowPktsPerSecond',\n",
    " 'flowBytesPerSecond',\n",
    " 'min_flowiat',\n",
    " 'max_flowiat',\n",
    " 'mean_flowiat',\n",
    " 'std_flowiat',\n",
    " 'min_active',\n",
    " 'mean_active',\n",
    " 'max_active',\n",
    " 'std_active',\n",
    " 'min_idle',\n",
    " 'mean_idle',\n",
    " 'max_idle',\n",
    " 'std_idle',\n",
    " 'class'])\n",
    "\n",
    "datasetScenearioA30['encoded_class']=le.fit_transform(datasetScenearioA30['class'])\n",
    "\n",
    "datasetScenearioA30=datasetScenearioA30.drop(columns=['class'])\n",
    "\n",
    "datasetA30Norm=((datasetScenearioA30-datasetScenearioA30.mean())/(datasetScenearioA30.std()))\n",
    "\n",
    "datasetA30Norm['encoded_class']=datasetScenearioA30['encoded_class']\n",
    "\n"
   ]
  },
  {
   "cell_type": "code",
   "execution_count": null,
   "id": "a8bd9dd9-4b0a-43a8-b89c-d3fc9dd70770",
   "metadata": {
    "colab": {},
    "colab_type": "code",
    "id": "xUhxwroZYGO4"
   },
   "outputs": [],
   "source": [
    "datasetScenearioA15 = pd.read_csv(\"datasetScenearioA15.csv\", header=None, \n",
    " names=['duration',\n",
    " 'total_fiat',\n",
    " 'total_biat',\n",
    " 'min_fiat',\n",
    " 'min_biat',\n",
    " 'max_fiat',\n",
    " 'max_biat',\n",
    " 'mean_fiat',\n",
    " 'mean_biat',\n",
    " 'flowPktsPerSecond',\n",
    " 'flowBytesPerSecond',\n",
    " 'min_flowiat',\n",
    " 'max_flowiat',\n",
    " 'mean_flowiat',\n",
    " 'std_flowiat',\n",
    " 'min_active',\n",
    " 'mean_active',\n",
    " 'max_active',\n",
    " 'std_active',\n",
    " 'min_idle',\n",
    " 'mean_idle',\n",
    " 'max_idle',\n",
    " 'std_idle',\n",
    " 'class'])datasetScenearioA15['encoded_class']=le.fit_transform(datasetScenearioA15['class'])\n",
    "\n",
    "datasetScenearioA15=datasetScenearioA15.drop(columns=['class'])\n",
    "\n",
    "datasetA15Norm=((datasetScenearioA15-datasetScenearioA15.mean())/(datasetScenearioA15.std()))\n",
    "\n",
    "datasetA15Norm['encoded_class']=datasetScenearioA15['encoded_class']"
   ]
  },
  {
   "cell_type": "code",
   "execution_count": null,
   "id": "c47d6609-3b1a-4668-9001-cb85afeecc0f",
   "metadata": {
    "colab": {},
    "colab_type": "code",
    "id": "PqjfKx-SYlrV"
   },
   "outputs": [],
   "source": [
    "dataNorm=datasetA120Norm\n",
    "\n",
    "dataNorm=dataNorm.append(datasetA60Norm, ignore_index=True)\n",
    "dataNorm=dataNorm.append(datasetA30Norm, ignore_index=True)\n",
    "dataNorm=dataNorm.append(datasetA15Norm, ignore_index=True)"
   ]
  },
  {
   "cell_type": "code",
   "execution_count": 55,
   "id": "706541f2-8b91-4da0-a7a3-ee235602dfcb",
   "metadata": {
    "colab": {
     "base_uri": "https://localhost:8080/",
     "height": 472
    },
    "colab_type": "code",
    "executionInfo": {
     "elapsed": 793,
     "status": "ok",
     "timestamp": 1584766260190,
     "user": {
      "displayName": "MAJEED UMER[학생](대학원 컴퓨터공학과) ‍",
      "photoUrl": "",
      "userId": "09904507153320373005"
     },
     "user_tz": -540
    },
    "id": "cezWf-8wp-Uw",
    "outputId": "52a8e09b-4c33-44cc-ffff-cdb172be4254"
   },
   "outputs": [
    {
     "data": {
      "text/plain": [
       "duration              float64\n",
       "total_fiat            float64\n",
       "total_biat            float64\n",
       "min_fiat              float64\n",
       "min_biat              float64\n",
       "max_fiat              float64\n",
       "max_biat              float64\n",
       "mean_fiat             float64\n",
       "mean_biat             float64\n",
       "flowPktsPerSecond     float64\n",
       "flowBytesPerSecond    float64\n",
       "min_flowiat           float64\n",
       "max_flowiat           float64\n",
       "mean_flowiat          float64\n",
       "std_flowiat           float64\n",
       "min_active            float64\n",
       "mean_active           float64\n",
       "max_active            float64\n",
       "std_active            float64\n",
       "min_idle              float64\n",
       "mean_idle             float64\n",
       "max_idle              float64\n",
       "std_idle              float64\n",
       "encoded_class           int64\n",
       "dtype: object"
      ]
     },
     "execution_count": 55,
     "metadata": {
      "tags": []
     },
     "output_type": "execute_result"
    }
   ],
   "source": [
    "dataNorm.dtypes"
   ]
  },
  {
   "cell_type": "code",
   "execution_count": 56,
   "id": "629c89d7-cf2a-4865-bb47-906ad225851f",
   "metadata": {
    "colab": {
     "base_uri": "https://localhost:8080/",
     "height": 427
    },
    "colab_type": "code",
    "executionInfo": {
     "elapsed": 613,
     "status": "ok",
     "timestamp": 1584766261730,
     "user": {
      "displayName": "MAJEED UMER[학생](대학원 컴퓨터공학과) ‍",
      "photoUrl": "",
      "userId": "09904507153320373005"
     },
     "user_tz": -540
    },
    "id": "YSpuy-M5Y1WT",
    "outputId": "abf008bc-0eaa-4da8-b1f1-596838033edd"
   },
   "outputs": [
    {
     "data": {
      "text/html": [
       "<div>\n",
       "<style scoped>\n",
       "    .dataframe tbody tr th:only-of-type {\n",
       "        vertical-align: middle;\n",
       "    }\n",
       "\n",
       "    .dataframe tbody tr th {\n",
       "        vertical-align: top;\n",
       "    }\n",
       "\n",
       "    .dataframe thead th {\n",
       "        text-align: right;\n",
       "    }\n",
       "</style>\n",
       "<table border=\"1\" class=\"dataframe\">\n",
       "  <thead>\n",
       "    <tr style=\"text-align: right;\">\n",
       "      <th></th>\n",
       "      <th>duration</th>\n",
       "      <th>total_fiat</th>\n",
       "      <th>total_biat</th>\n",
       "      <th>min_fiat</th>\n",
       "      <th>min_biat</th>\n",
       "      <th>max_fiat</th>\n",
       "      <th>max_biat</th>\n",
       "      <th>mean_fiat</th>\n",
       "      <th>mean_biat</th>\n",
       "      <th>flowPktsPerSecond</th>\n",
       "      <th>flowBytesPerSecond</th>\n",
       "      <th>min_flowiat</th>\n",
       "      <th>max_flowiat</th>\n",
       "      <th>mean_flowiat</th>\n",
       "      <th>std_flowiat</th>\n",
       "      <th>min_active</th>\n",
       "      <th>mean_active</th>\n",
       "      <th>max_active</th>\n",
       "      <th>std_active</th>\n",
       "      <th>min_idle</th>\n",
       "      <th>mean_idle</th>\n",
       "      <th>max_idle</th>\n",
       "      <th>std_idle</th>\n",
       "      <th>encoded_class</th>\n",
       "    </tr>\n",
       "  </thead>\n",
       "  <tbody>\n",
       "    <tr>\n",
       "      <th>0</th>\n",
       "      <td>1.387643</td>\n",
       "      <td>-0.311477</td>\n",
       "      <td>-0.276861</td>\n",
       "      <td>0.628009</td>\n",
       "      <td>0.823722</td>\n",
       "      <td>-0.411613</td>\n",
       "      <td>-0.392982</td>\n",
       "      <td>-0.162273</td>\n",
       "      <td>-0.155449</td>\n",
       "      <td>0.649243</td>\n",
       "      <td>-0.084152</td>\n",
       "      <td>-0.105118</td>\n",
       "      <td>0.543530</td>\n",
       "      <td>-0.446548</td>\n",
       "      <td>-0.355567</td>\n",
       "      <td>-0.378909</td>\n",
       "      <td>-0.325365</td>\n",
       "      <td>0.526630</td>\n",
       "      <td>0.521968</td>\n",
       "      <td>-0.381806</td>\n",
       "      <td>-0.351999</td>\n",
       "      <td>0.545133</td>\n",
       "      <td>0.554642</td>\n",
       "      <td>0</td>\n",
       "    </tr>\n",
       "    <tr>\n",
       "      <th>1</th>\n",
       "      <td>1.433055</td>\n",
       "      <td>-0.311477</td>\n",
       "      <td>-0.276861</td>\n",
       "      <td>0.628704</td>\n",
       "      <td>0.818574</td>\n",
       "      <td>-0.409091</td>\n",
       "      <td>-0.394245</td>\n",
       "      <td>-0.155295</td>\n",
       "      <td>-0.162247</td>\n",
       "      <td>0.607625</td>\n",
       "      <td>-0.084126</td>\n",
       "      <td>-0.105118</td>\n",
       "      <td>0.539895</td>\n",
       "      <td>-0.445457</td>\n",
       "      <td>-0.354658</td>\n",
       "      <td>-0.376179</td>\n",
       "      <td>-0.345179</td>\n",
       "      <td>0.524956</td>\n",
       "      <td>0.468308</td>\n",
       "      <td>-0.382291</td>\n",
       "      <td>-0.360140</td>\n",
       "      <td>0.541502</td>\n",
       "      <td>0.495028</td>\n",
       "      <td>0</td>\n",
       "    </tr>\n",
       "    <tr>\n",
       "      <th>2</th>\n",
       "      <td>0.876661</td>\n",
       "      <td>-0.311476</td>\n",
       "      <td>-0.276861</td>\n",
       "      <td>0.261788</td>\n",
       "      <td>0.379124</td>\n",
       "      <td>-0.376589</td>\n",
       "      <td>-0.349008</td>\n",
       "      <td>-0.042972</td>\n",
       "      <td>0.009202</td>\n",
       "      <td>0.199013</td>\n",
       "      <td>-0.084211</td>\n",
       "      <td>-0.105117</td>\n",
       "      <td>0.198530</td>\n",
       "      <td>-0.400055</td>\n",
       "      <td>-0.263476</td>\n",
       "      <td>-0.331239</td>\n",
       "      <td>-0.176311</td>\n",
       "      <td>0.190405</td>\n",
       "      <td>0.661566</td>\n",
       "      <td>-0.374314</td>\n",
       "      <td>-0.195001</td>\n",
       "      <td>0.200576</td>\n",
       "      <td>0.753111</td>\n",
       "      <td>0</td>\n",
       "    </tr>\n",
       "    <tr>\n",
       "      <th>3</th>\n",
       "      <td>0.396602</td>\n",
       "      <td>-0.311477</td>\n",
       "      <td>-0.276861</td>\n",
       "      <td>0.320534</td>\n",
       "      <td>0.449830</td>\n",
       "      <td>-0.396896</td>\n",
       "      <td>-0.378565</td>\n",
       "      <td>-0.100082</td>\n",
       "      <td>-0.083194</td>\n",
       "      <td>0.187662</td>\n",
       "      <td>-0.084166</td>\n",
       "      <td>-0.105117</td>\n",
       "      <td>0.253455</td>\n",
       "      <td>-0.429132</td>\n",
       "      <td>-0.312051</td>\n",
       "      <td>-0.371975</td>\n",
       "      <td>-0.201415</td>\n",
       "      <td>0.239987</td>\n",
       "      <td>0.728475</td>\n",
       "      <td>-0.377779</td>\n",
       "      <td>-0.223393</td>\n",
       "      <td>0.255431</td>\n",
       "      <td>0.760556</td>\n",
       "      <td>0</td>\n",
       "    </tr>\n",
       "    <tr>\n",
       "      <th>4</th>\n",
       "      <td>1.441082</td>\n",
       "      <td>1.925923</td>\n",
       "      <td>2.154681</td>\n",
       "      <td>0.452196</td>\n",
       "      <td>0.613841</td>\n",
       "      <td>1.628258</td>\n",
       "      <td>1.811737</td>\n",
       "      <td>-0.381014</td>\n",
       "      <td>-0.464994</td>\n",
       "      <td>-0.058262</td>\n",
       "      <td>-0.084269</td>\n",
       "      <td>-0.045857</td>\n",
       "      <td>0.379062</td>\n",
       "      <td>2.091895</td>\n",
       "      <td>0.944604</td>\n",
       "      <td>0.600347</td>\n",
       "      <td>0.496862</td>\n",
       "      <td>0.359364</td>\n",
       "      <td>-0.368088</td>\n",
       "      <td>0.610032</td>\n",
       "      <td>0.508947</td>\n",
       "      <td>0.380876</td>\n",
       "      <td>-0.358025</td>\n",
       "      <td>0</td>\n",
       "    </tr>\n",
       "    <tr>\n",
       "      <th>...</th>\n",
       "      <td>...</td>\n",
       "      <td>...</td>\n",
       "      <td>...</td>\n",
       "      <td>...</td>\n",
       "      <td>...</td>\n",
       "      <td>...</td>\n",
       "      <td>...</td>\n",
       "      <td>...</td>\n",
       "      <td>...</td>\n",
       "      <td>...</td>\n",
       "      <td>...</td>\n",
       "      <td>...</td>\n",
       "      <td>...</td>\n",
       "      <td>...</td>\n",
       "      <td>...</td>\n",
       "      <td>...</td>\n",
       "      <td>...</td>\n",
       "      <td>...</td>\n",
       "      <td>...</td>\n",
       "      <td>...</td>\n",
       "      <td>...</td>\n",
       "      <td>...</td>\n",
       "      <td>...</td>\n",
       "      <td>...</td>\n",
       "    </tr>\n",
       "    <tr>\n",
       "      <th>59701</th>\n",
       "      <td>-0.675617</td>\n",
       "      <td>-0.271345</td>\n",
       "      <td>-0.269416</td>\n",
       "      <td>-0.312038</td>\n",
       "      <td>-0.296472</td>\n",
       "      <td>-0.319534</td>\n",
       "      <td>-0.369323</td>\n",
       "      <td>-0.194815</td>\n",
       "      <td>-0.243745</td>\n",
       "      <td>-0.107057</td>\n",
       "      <td>-0.050335</td>\n",
       "      <td>0.071252</td>\n",
       "      <td>-0.272730</td>\n",
       "      <td>-0.287360</td>\n",
       "      <td>-0.292869</td>\n",
       "      <td>-0.242290</td>\n",
       "      <td>-0.268084</td>\n",
       "      <td>-0.292185</td>\n",
       "      <td>-0.178574</td>\n",
       "      <td>-0.223616</td>\n",
       "      <td>-0.246777</td>\n",
       "      <td>-0.268493</td>\n",
       "      <td>-0.162674</td>\n",
       "      <td>0</td>\n",
       "    </tr>\n",
       "    <tr>\n",
       "      <th>59702</th>\n",
       "      <td>-0.677088</td>\n",
       "      <td>-0.271345</td>\n",
       "      <td>-0.269416</td>\n",
       "      <td>-0.312038</td>\n",
       "      <td>-0.296472</td>\n",
       "      <td>-0.319534</td>\n",
       "      <td>-0.369323</td>\n",
       "      <td>-0.194815</td>\n",
       "      <td>-0.243745</td>\n",
       "      <td>-0.106477</td>\n",
       "      <td>-0.050055</td>\n",
       "      <td>0.023528</td>\n",
       "      <td>-0.274255</td>\n",
       "      <td>-0.302425</td>\n",
       "      <td>-0.292869</td>\n",
       "      <td>-0.242290</td>\n",
       "      <td>-0.268084</td>\n",
       "      <td>-0.292185</td>\n",
       "      <td>-0.178574</td>\n",
       "      <td>-0.223616</td>\n",
       "      <td>-0.246777</td>\n",
       "      <td>-0.268493</td>\n",
       "      <td>-0.162674</td>\n",
       "      <td>0</td>\n",
       "    </tr>\n",
       "    <tr>\n",
       "      <th>59703</th>\n",
       "      <td>-0.675986</td>\n",
       "      <td>-0.271345</td>\n",
       "      <td>-0.269416</td>\n",
       "      <td>-0.312038</td>\n",
       "      <td>-0.296472</td>\n",
       "      <td>-0.319534</td>\n",
       "      <td>-0.369323</td>\n",
       "      <td>-0.194815</td>\n",
       "      <td>-0.243745</td>\n",
       "      <td>-0.106945</td>\n",
       "      <td>-0.050281</td>\n",
       "      <td>0.059259</td>\n",
       "      <td>-0.273113</td>\n",
       "      <td>-0.291146</td>\n",
       "      <td>-0.292869</td>\n",
       "      <td>-0.242290</td>\n",
       "      <td>-0.268084</td>\n",
       "      <td>-0.292185</td>\n",
       "      <td>-0.178574</td>\n",
       "      <td>-0.223616</td>\n",
       "      <td>-0.246777</td>\n",
       "      <td>-0.268493</td>\n",
       "      <td>-0.162674</td>\n",
       "      <td>0</td>\n",
       "    </tr>\n",
       "    <tr>\n",
       "      <th>59704</th>\n",
       "      <td>-0.658908</td>\n",
       "      <td>-0.271345</td>\n",
       "      <td>-0.269416</td>\n",
       "      <td>-0.312038</td>\n",
       "      <td>-0.296472</td>\n",
       "      <td>-0.319534</td>\n",
       "      <td>-0.369323</td>\n",
       "      <td>-0.194815</td>\n",
       "      <td>-0.243745</td>\n",
       "      <td>-0.108152</td>\n",
       "      <td>-0.050865</td>\n",
       "      <td>0.613413</td>\n",
       "      <td>-0.255402</td>\n",
       "      <td>-0.116224</td>\n",
       "      <td>-0.292869</td>\n",
       "      <td>-0.242290</td>\n",
       "      <td>-0.268084</td>\n",
       "      <td>-0.292185</td>\n",
       "      <td>-0.178574</td>\n",
       "      <td>-0.223616</td>\n",
       "      <td>-0.246777</td>\n",
       "      <td>-0.268493</td>\n",
       "      <td>-0.162674</td>\n",
       "      <td>0</td>\n",
       "    </tr>\n",
       "    <tr>\n",
       "      <th>59705</th>\n",
       "      <td>-0.675398</td>\n",
       "      <td>-0.271345</td>\n",
       "      <td>-0.269416</td>\n",
       "      <td>-0.312038</td>\n",
       "      <td>-0.296472</td>\n",
       "      <td>-0.319534</td>\n",
       "      <td>-0.369323</td>\n",
       "      <td>-0.194815</td>\n",
       "      <td>-0.243745</td>\n",
       "      <td>-0.107116</td>\n",
       "      <td>-0.050364</td>\n",
       "      <td>0.078349</td>\n",
       "      <td>-0.272503</td>\n",
       "      <td>-0.285120</td>\n",
       "      <td>-0.292869</td>\n",
       "      <td>-0.242290</td>\n",
       "      <td>-0.268084</td>\n",
       "      <td>-0.292185</td>\n",
       "      <td>-0.178574</td>\n",
       "      <td>-0.223616</td>\n",
       "      <td>-0.246777</td>\n",
       "      <td>-0.268493</td>\n",
       "      <td>-0.162674</td>\n",
       "      <td>0</td>\n",
       "    </tr>\n",
       "  </tbody>\n",
       "</table>\n",
       "<p>59706 rows × 24 columns</p>\n",
       "</div>"
      ],
      "text/plain": [
       "       duration  total_fiat  total_biat  ...  max_idle  std_idle  encoded_class\n",
       "0      1.387643   -0.311477   -0.276861  ...  0.545133  0.554642              0\n",
       "1      1.433055   -0.311477   -0.276861  ...  0.541502  0.495028              0\n",
       "2      0.876661   -0.311476   -0.276861  ...  0.200576  0.753111              0\n",
       "3      0.396602   -0.311477   -0.276861  ...  0.255431  0.760556              0\n",
       "4      1.441082    1.925923    2.154681  ...  0.380876 -0.358025              0\n",
       "...         ...         ...         ...  ...       ...       ...            ...\n",
       "59701 -0.675617   -0.271345   -0.269416  ... -0.268493 -0.162674              0\n",
       "59702 -0.677088   -0.271345   -0.269416  ... -0.268493 -0.162674              0\n",
       "59703 -0.675986   -0.271345   -0.269416  ... -0.268493 -0.162674              0\n",
       "59704 -0.658908   -0.271345   -0.269416  ... -0.268493 -0.162674              0\n",
       "59705 -0.675398   -0.271345   -0.269416  ... -0.268493 -0.162674              0\n",
       "\n",
       "[59706 rows x 24 columns]"
      ]
     },
     "execution_count": 56,
     "metadata": {
      "tags": []
     },
     "output_type": "execute_result"
    }
   ],
   "source": [
    "dataNorm"
   ]
  },
  {
   "cell_type": "code",
   "execution_count": null,
   "id": "18d93110-9d4b-429e-bb57-580e656cce4d",
   "metadata": {
    "colab": {},
    "colab_type": "code",
    "id": "BIL_Q9VpxQO6"
   },
   "outputs": [],
   "source": [
    "from sklearn.model_selection import train_test_split"
   ]
  },
  {
   "cell_type": "code",
   "execution_count": null,
   "id": "545edbe9-3c8b-4c42-9524-0411255e4cb6",
   "metadata": {
    "colab": {},
    "colab_type": "code",
    "id": "x3QlnCR4xZem"
   },
   "outputs": [],
   "source": [
    "df_total_numeric_features=dataNorm[['duration',\n",
    " 'total_fiat',\n",
    " 'total_biat',\n",
    " 'min_fiat',\n",
    " 'min_biat',\n",
    " 'max_fiat',\n",
    " 'max_biat',\n",
    " 'mean_fiat',\n",
    " 'mean_biat',\n",
    " 'flowPktsPerSecond',\n",
    " 'flowBytesPerSecond',\n",
    " 'min_flowiat',\n",
    " 'max_flowiat',\n",
    " 'mean_flowiat',\n",
    " 'std_flowiat',\n",
    " 'min_active',\n",
    " 'mean_active',\n",
    " 'max_active',\n",
    " 'std_active',\n",
    " 'min_idle',\n",
    " 'mean_idle',\n",
    " 'max_idle',\n",
    " 'std_idle']].to_numpy()"
   ]
  },
  {
   "cell_type": "code",
   "execution_count": null,
   "id": "cd825f3b-7ad0-41fc-809c-7dbb1aaaa200",
   "metadata": {
    "colab": {},
    "colab_type": "code",
    "id": "n5eo6zN6xdb8"
   },
   "outputs": [],
   "source": [
    "df_total_numeric_label=dataNorm[['encoded_class']].to_numpy()"
   ]
  },
  {
   "cell_type": "code",
   "execution_count": 65,
   "id": "78b0eb5a-2279-4dfc-a16f-d2209ef70304",
   "metadata": {
    "colab": {
     "base_uri": "https://localhost:8080/",
     "height": 35
    },
    "colab_type": "code",
    "executionInfo": {
     "elapsed": 26086,
     "status": "ok",
     "timestamp": 1584766301735,
     "user": {
      "displayName": "MAJEED UMER[학생](대학원 컴퓨터공학과) ‍",
      "photoUrl": "",
      "userId": "09904507153320373005"
     },
     "user_tz": -540
    },
    "id": "zQDUPHm2NiVT",
    "outputId": "c17a3e45-b170-4c14-defb-f37a4614c9c3"
   },
   "outputs": [
    {
     "name": "stdout",
     "output_type": "stream",
     "text": [
      "TensorFlow 2.x selected.\n"
     ]
    }
   ],
   "source": [
    "try:\n",
    "  # Use the %tensorflow_version magic if in colab.\n",
    "  %tensorflow_version 2.x\n",
    "except Exception:\n",
    "  pass\n",
    "\n",
    "import tensorflow as tf"
   ]
  },
  {
   "cell_type": "code",
   "execution_count": 66,
   "id": "cb72edea-b19b-4949-8148-d5195bba2518",
   "metadata": {
    "colab": {
     "base_uri": "https://localhost:8080/",
     "height": 35
    },
    "colab_type": "code",
    "executionInfo": {
     "elapsed": 24890,
     "status": "ok",
     "timestamp": 1584766301744,
     "user": {
      "displayName": "MAJEED UMER[학생](대학원 컴퓨터공학과) ‍",
      "photoUrl": "",
      "userId": "09904507153320373005"
     },
     "user_tz": -540
    },
    "id": "1m7YDw3WCbhC",
    "outputId": "9a20b302-2a3f-4257-a521-cae1cfbb17a6"
   },
   "outputs": [
    {
     "name": "stderr",
     "output_type": "stream",
     "text": [
      "Using TensorFlow backend.\n"
     ]
    }
   ],
   "source": [
    "from keras.utils import to_categorical"
   ]
  },
  {
   "cell_type": "code",
   "execution_count": null,
   "id": "8591c4b2-dcb5-4748-97e2-4ee4402eb22b",
   "metadata": {
    "colab": {},
    "colab_type": "code",
    "id": "caGQHbrDCgYl"
   },
   "outputs": [],
   "source": [
    "ohe_label = to_categorical(df_total_numeric_label)"
   ]
  },
  {
   "cell_type": "code",
   "execution_count": null,
   "id": "b0e72e5d-58ea-4f1d-a700-d6575ee54e59",
   "metadata": {
    "colab": {
     "base_uri": "https://localhost:8080/",
     "height": 35
    },
    "colab_type": "code",
    "executionInfo": {
     "elapsed": 1086,
     "status": "ok",
     "timestamp": 1584665894271,
     "user": {
      "displayName": "MAJEED UMER[학생](대학원 컴퓨터공학과) ‍",
      "photoUrl": "",
      "userId": "09904507153320373005"
     },
     "user_tz": -540
    },
    "id": "jFNmfBKtCqZa",
    "outputId": "6511f51c-a90d-4b95-c33a-7371095aac1a"
   },
   "outputs": [
    {
     "data": {
      "text/plain": [
       "array([0., 1.], dtype=float32)"
      ]
     },
     "execution_count": 56,
     "metadata": {
      "tags": []
     },
     "output_type": "execute_result"
    }
   ],
   "source": [
    "ohe_label[30000]"
   ]
  },
  {
   "cell_type": "code",
   "execution_count": null,
   "id": "46730da4-5547-4f72-9e88-d27790ecd68a",
   "metadata": {
    "colab": {
     "base_uri": "https://localhost:8080/",
     "height": 35
    },
    "colab_type": "code",
    "executionInfo": {
     "elapsed": 478,
     "status": "ok",
     "timestamp": 1584665894272,
     "user": {
      "displayName": "MAJEED UMER[학생](대학원 컴퓨터공학과) ‍",
      "photoUrl": "",
      "userId": "09904507153320373005"
     },
     "user_tz": -540
    },
    "id": "7aYstsa4Crpm",
    "outputId": "64a16169-3c8d-4552-8e00-086cdc293937"
   },
   "outputs": [
    {
     "data": {
      "text/plain": [
       "array([1])"
      ]
     },
     "execution_count": 57,
     "metadata": {
      "tags": []
     },
     "output_type": "execute_result"
    }
   ],
   "source": [
    "df_total_numeric_label[30000]"
   ]
  },
  {
   "cell_type": "code",
   "execution_count": null,
   "id": "2a30d602-9f80-4bc7-88af-35f503cd1522",
   "metadata": {
    "colab": {},
    "colab_type": "code",
    "id": "VzbTo7ZHxgQc"
   },
   "outputs": [],
   "source": [
    "X_train, X_test, y_train, y_test = train_test_split(df_total_numeric_features, ohe_label,\n",
    "                                                    stratify=ohe_label, \n",
    "                                                    test_size=0.2)"
   ]
  },
  {
   "cell_type": "code",
   "execution_count": null,
   "id": "6900c1da-6180-46db-8aed-f5702cbc2871",
   "metadata": {
    "colab": {},
    "colab_type": "code",
    "id": "4LFgh2dL3d_P"
   },
   "outputs": [],
   "source": [
    "import numpy as np\n",
    "(unique, counts) = np.unique(y_train, return_counts=True,axis=0)"
   ]
  },
  {
   "cell_type": "code",
   "execution_count": null,
   "id": "31c708f0-8f5b-40ff-b8da-d3339e07e3ae",
   "metadata": {
    "colab": {
     "base_uri": "https://localhost:8080/",
     "height": 54
    },
    "colab_type": "code",
    "executionInfo": {
     "elapsed": 955,
     "status": "ok",
     "timestamp": 1584665897880,
     "user": {
      "displayName": "MAJEED UMER[학생](대학원 컴퓨터공학과) ‍",
      "photoUrl": "",
      "userId": "09904507153320373005"
     },
     "user_tz": -540
    },
    "id": "AQw1TBLI4FLM",
    "outputId": "6b3dd293-b561-413f-d4c3-821e43dfc7e5"
   },
   "outputs": [
    {
     "data": {
      "text/plain": [
       "array([[0., 1.],\n",
       "       [1., 0.]], dtype=float32)"
      ]
     },
     "execution_count": 60,
     "metadata": {
      "tags": []
     },
     "output_type": "execute_result"
    }
   ],
   "source": [
    "unique"
   ]
  },
  {
   "cell_type": "code",
   "execution_count": 70,
   "id": "b5f468ff-e648-4b04-a05a-ed7535f61dbe",
   "metadata": {
    "colab": {
     "base_uri": "https://localhost:8080/",
     "height": 35
    },
    "colab_type": "code",
    "executionInfo": {
     "elapsed": 15563,
     "status": "ok",
     "timestamp": 1584766302027,
     "user": {
      "displayName": "MAJEED UMER[학생](대학원 컴퓨터공학과) ‍",
      "photoUrl": "",
      "userId": "09904507153320373005"
     },
     "user_tz": -540
    },
    "id": "8Z32Ll4gx_rY",
    "outputId": "3c996480-bb04-46cb-adaf-06542b304174"
   },
   "outputs": [
    {
     "data": {
      "text/plain": [
       "11942"
      ]
     },
     "execution_count": 70,
     "metadata": {
      "tags": []
     },
     "output_type": "execute_result"
    }
   ],
   "source": [
    "total_test=len(X_test)\n",
    "total_test"
   ]
  },
  {
   "cell_type": "code",
   "execution_count": 71,
   "id": "84d74369-aef6-40a5-bedc-2ff6f83ef2c7",
   "metadata": {
    "colab": {
     "base_uri": "https://localhost:8080/",
     "height": 35
    },
    "colab_type": "code",
    "executionInfo": {
     "elapsed": 14563,
     "status": "ok",
     "timestamp": 1584766302028,
     "user": {
      "displayName": "MAJEED UMER[학생](대학원 컴퓨터공학과) ‍",
      "photoUrl": "",
      "userId": "09904507153320373005"
     },
     "user_tz": -540
    },
    "id": "afJBCAtlyEat",
    "outputId": "9eeb564f-df4b-48e4-a6a0-f13f3fabb9f1"
   },
   "outputs": [
    {
     "data": {
      "text/plain": [
       "47764"
      ]
     },
     "execution_count": 71,
     "metadata": {
      "tags": []
     },
     "output_type": "execute_result"
    }
   ],
   "source": [
    "total_train=len(X_train)\n",
    "total_train"
   ]
  },
  {
   "cell_type": "code",
   "execution_count": null,
   "id": "3a7c6fac-cc21-45e5-b376-37f25c6edd44",
   "metadata": {
    "colab": {},
    "colab_type": "code",
    "id": "uYFk6NO70hmT"
   },
   "outputs": [],
   "source": [
    "y_train=y_train.astype('int32')"
   ]
  },
  {
   "cell_type": "code",
   "execution_count": null,
   "id": "5dca2688-3187-4772-8995-252be256f0b4",
   "metadata": {
    "colab": {},
    "colab_type": "code",
    "id": "5i3ovhxv0vFS"
   },
   "outputs": [],
   "source": [
    "x_train=x_train.astype('float32')"
   ]
  },
  {
   "cell_type": "code",
   "execution_count": null,
   "id": "6ed70e9f-c99c-4161-aea0-d9ceda28f88e",
   "metadata": {
    "colab": {
     "base_uri": "https://localhost:8080/",
     "height": 35
    },
    "colab_type": "code",
    "executionInfo": {
     "elapsed": 889,
     "status": "ok",
     "timestamp": 1584665932767,
     "user": {
      "displayName": "MAJEED UMER[학생](대학원 컴퓨터공학과) ‍",
      "photoUrl": "",
      "userId": "09904507153320373005"
     },
     "user_tz": -540
    },
    "id": "Jnj2pPzP00f5",
    "outputId": "987728d1-35a3-485a-aec1-d50cb039e6b2"
   },
   "outputs": [
    {
     "data": {
      "text/plain": [
       "(23,)"
      ]
     },
     "execution_count": 73,
     "metadata": {
      "tags": []
     },
     "output_type": "execute_result"
    }
   ],
   "source": [
    "x_train[1].shape"
   ]
  },
  {
   "cell_type": "code",
   "execution_count": null,
   "id": "c430e444-3e8b-480a-865a-3fbec73cb43f",
   "metadata": {
    "colab": {
     "base_uri": "https://localhost:8080/",
     "height": 108
    },
    "colab_type": "code",
    "executionInfo": {
     "elapsed": 515,
     "status": "ok",
     "timestamp": 1584665933150,
     "user": {
      "displayName": "MAJEED UMER[학생](대학원 컴퓨터공학과) ‍",
      "photoUrl": "",
      "userId": "09904507153320373005"
     },
     "user_tz": -540
    },
    "id": "S1xCaVI9i9hA",
    "outputId": "d50a9294-518a-4f73-a24a-4d18b5db4f21"
   },
   "outputs": [
    {
     "data": {
      "text/plain": [
       "array([ 0.7010088 , -0.27985027, -0.27788177,  0.96749234,  1.1173689 ,\n",
       "       -0.28698382, -0.26231286,  0.15936655,  0.43103838, -0.13398038,\n",
       "       -0.05413245, -0.08564138,  0.70858586, -0.275996  , -0.03335306,\n",
       "       -0.23655762,  0.085145  ,  0.67940474,  1.6422577 , -0.23330466,\n",
       "        0.07355642,  0.7129298 ,  1.7827014 ], dtype=float32)"
      ]
     },
     "execution_count": 74,
     "metadata": {
      "tags": []
     },
     "output_type": "execute_result"
    }
   ],
   "source": [
    "x_train[1]"
   ]
  },
  {
   "cell_type": "code",
   "execution_count": null,
   "id": "50d7d54e-3e7a-4e01-9947-7bd6ac461055",
   "metadata": {
    "colab": {},
    "colab_type": "code",
    "id": "6NwYTmJH03Sp"
   },
   "outputs": [],
   "source": [
    "y_test=y_test.astype('int32')"
   ]
  },
  {
   "cell_type": "code",
   "execution_count": null,
   "id": "4601e44d-ad8c-4242-a537-e1ddee604201",
   "metadata": {
    "colab": {},
    "colab_type": "code",
    "id": "O_QZzXj71NGn"
   },
   "outputs": [],
   "source": [
    "x_test=x_test.astype('float32')"
   ]
  },
  {
   "cell_type": "code",
   "execution_count": null,
   "id": "47b871f3-d7a7-4423-bc2c-559c030431ac",
   "metadata": {},
   "outputs": [],
   "source": []
  },
  {
   "cell_type": "code",
   "execution_count": null,
   "id": "166ff911-1b13-4297-9d41-12fbec39fc83",
   "metadata": {
    "colab": {},
    "colab_type": "code",
    "id": "GP4Ay2JZx6tC"
   },
   "outputs": [],
   "source": [
    "CLIENTS=2\n",
    "BATCH_SIZE_train = int(total_train/2) # 23882\n",
    "BATCH_SIZE_test = int(total_test/2) #5971\n"
   ]
  },
  {
   "cell_type": "code",
   "execution_count": null,
   "id": "93fb0659-d484-4cee-a953-2c0de0c37113",
   "metadata": {
    "colab": {},
    "colab_type": "code",
    "id": "TWugxj10CTPH"
   },
   "outputs": [],
   "source": [
    "def generate_clients_datasets_nobatch(n, BATCH_SIZE_EXT, source_x, source_y):\n",
    "    clients_dataset=[]\n",
    "    for i in range(n):\n",
    "        dataset=tf.data.Dataset.from_tensor_slices((source_x[i*BATCH_SIZE_EXT:(i+1)*BATCH_SIZE_EXT], source_y[i*BATCH_SIZE_EXT:(i+1)*BATCH_SIZE_EXT]))\n",
    "        clients_dataset.append(dataset)\n",
    "    return clients_dataset"
   ]
  },
  {
   "cell_type": "code",
   "execution_count": null,
   "id": "09158a4b-afa3-4d3b-a353-0966d86d56f3",
   "metadata": {
    "colab": {},
    "colab_type": "code",
    "id": "wUl_iDpGyMSP"
   },
   "outputs": [],
   "source": [
    "train_dataset_central=generate_clients_datasets_nobatch(1, total_train*2, x_train, y_train)"
   ]
  },
  {
   "cell_type": "code",
   "execution_count": null,
   "id": "ab2f64b4-c350-410d-a9ec-620d46282fc2",
   "metadata": {
    "colab": {},
    "colab_type": "code",
    "id": "QN9yD8wTyMST"
   },
   "outputs": [],
   "source": [
    "test_dataset_central=generate_clients_datasets_nobatch(1, total_test*2, x_test, y_test)"
   ]
  },
  {
   "cell_type": "code",
   "execution_count": null,
   "id": "6842f2e9-0c30-4a72-ae71-3ed0f2e0c4f2",
   "metadata": {
    "colab": {},
    "colab_type": "code",
    "id": "xSX4leHbyMSW"
   },
   "outputs": [],
   "source": [
    "train_dataset_individual=generate_clients_datasets_nobatch(CLIENTS, BATCH_SIZE_train, x_train, y_train)"
   ]
  },
  {
   "cell_type": "code",
   "execution_count": null,
   "id": "596c2ebc-a621-4c3f-b905-fc23e969a608",
   "metadata": {
    "colab": {},
    "colab_type": "code",
    "id": "nQvrmAziyMSZ"
   },
   "outputs": [],
   "source": [
    "test_dataset_individual=generate_clients_datasets_nobatch(CLIENTS, BATCH_SIZE_test, x_test, y_test)"
   ]
  },
  {
   "cell_type": "code",
   "execution_count": 82,
   "id": "453687fe-2e2c-4ceb-900c-80677fd93d33",
   "metadata": {
    "colab": {
     "base_uri": "https://localhost:8080/",
     "height": 35
    },
    "colab_type": "code",
    "executionInfo": {
     "elapsed": 514,
     "status": "ok",
     "timestamp": 1583978396258,
     "user": {
      "displayName": "MAJEED UMER[학생](대학원 컴퓨터공학과) ‍",
      "photoUrl": "",
      "userId": "09904507153320373005"
     },
     "user_tz": -540
    },
    "id": "901FRMSz3iAL",
    "outputId": "59846d88-50ce-4d0f-850f-fd5cec9bdccc"
   },
   "outputs": [
    {
     "data": {
      "text/plain": [
       "<BatchDataset shapes: ((None, 23), (None, 1)), types: (tf.float32, tf.int32)>"
      ]
     },
     "execution_count": 82,
     "metadata": {
      "tags": []
     },
     "output_type": "execute_result"
    }
   ],
   "source": [
    "train_dataset_central[0]"
   ]
  },
  {
   "cell_type": "code",
   "execution_count": 83,
   "id": "c43d75fb-ee4e-4e62-9f4a-530d23fe9c39",
   "metadata": {
    "colab": {
     "base_uri": "https://localhost:8080/",
     "height": 54
    },
    "colab_type": "code",
    "executionInfo": {
     "elapsed": 597,
     "status": "ok",
     "timestamp": 1583978399281,
     "user": {
      "displayName": "MAJEED UMER[학생](대학원 컴퓨터공학과) ‍",
      "photoUrl": "",
      "userId": "09904507153320373005"
     },
     "user_tz": -540
    },
    "id": "5n6NNDTD4g__",
    "outputId": "2d280aa2-6b15-4a34-bcd8-8f667b6d3d0a"
   },
   "outputs": [
    {
     "data": {
      "text/plain": [
       "[<BatchDataset shapes: ((None, 23), (None, 1)), types: (tf.float32, tf.int32)>,\n",
       " <BatchDataset shapes: ((None, 23), (None, 1)), types: (tf.float32, tf.int32)>]"
      ]
     },
     "execution_count": 83,
     "metadata": {
      "tags": []
     },
     "output_type": "execute_result"
    }
   ],
   "source": [
    "train_dataset_individual"
   ]
  },
  {
   "cell_type": "code",
   "execution_count": null,
   "id": "b7beadda-8038-4a5e-8841-555d8f8348a0",
   "metadata": {},
   "outputs": [],
   "source": [
    "Epochs = 600"
   ]
  },
  {
   "cell_type": "code",
   "execution_count": null,
   "id": "83a32940-924d-4288-8aef-d41095d3c494",
   "metadata": {
    "colab": {},
    "colab_type": "code",
    "id": "nkiSQ-2S49el"
   },
   "outputs": [],
   "source": [
    "cental_model = tf.keras.models.Sequential([\n",
    "  tf.keras.layers.Dense(23, input_shape=(23,)),\n",
    "  tf.keras.layers.Dense(100, activation='relu'),\n",
    "  tf.keras.layers.Dropout(0.2),\n",
    "  tf.keras.layers.Dense(100, activation='relu'),\n",
    "  tf.keras.layers.Dropout(0.2),\n",
    "  tf.keras.layers.Dense(2, activation='softmax')\n",
    "\n",
    "])\n",
    "\n",
    "cental_model.compile(optimizer='adam',\n",
    "              loss=tf.keras.losses.SparseCategoricalCrossentropy(),\n",
    "              metrics=[tf.keras.metrics.SparseCategoricalAccuracy()])"
   ]
  },
  {
   "cell_type": "code",
   "execution_count": null,
   "id": "6edf5d8f-2bcf-457c-9a41-3359e52ef6cb",
   "metadata": {},
   "outputs": [],
   "source": [
    "#central model trainiing\n",
    "cental_model_hist=cental_model.fit(train_dataset_central[0], epochs=Epochs, validation_data=(test_dataset_central[0]))"
   ]
  },
  {
   "cell_type": "code",
   "execution_count": null,
   "id": "608d740d-f583-4638-9c9e-c5e1eda1df40",
   "metadata": {
    "colab": {},
    "colab_type": "code",
    "id": "6kB06mPB5P6j"
   },
   "outputs": [],
   "source": [
    "x_1_individual_model = tf.keras.models.Sequential([\n",
    "  tf.keras.layers.Input(shape=(23,)), \n",
    "\n",
    "  tf.keras.layers.Dense(256, activation='relu'),\n",
    "  tf.keras.layers.Dense(256, activation='relu'),\n",
    "  \n",
    "  tf.keras.layers.Dropout(0.2),\n",
    "\n",
    "  tf.keras.layers.Dense(256, activation='relu'),\n",
    "  tf.keras.layers.Dense(256, activation='relu'),\n",
    "  \n",
    "  tf.keras.layers.Dropout(0.2),\n",
    "\n",
    "  tf.keras.layers.Dense(256, activation='relu'),\n",
    "  tf.keras.layers.Dense(256, activation='relu'), \n",
    "                                       \n",
    "  tf.keras.layers.Dense(2, activation='softmax')\n",
    "\n",
    "\n",
    "])\n",
    "\n",
    "x_1_individual_model.compile(optimizer='sgd',\n",
    "              loss=tf.keras.losses.CategoricalCrossentropy(),\n",
    "              metrics=[tf.keras.metrics.CategoricalAccuracy()])"
   ]
  },
  {
   "cell_type": "code",
   "execution_count": null,
   "id": "b260ec84-062c-47f6-9da5-f34103364cd4",
   "metadata": {},
   "outputs": [],
   "source": [
    "#x_1_individual model training\n",
    "x_1_individual_hist=x_1_individual_model.fit(train_dataset_individual[0], epochs=Epochs, validation_data=(test_dataset_central[0]))"
   ]
  },
  {
   "cell_type": "code",
   "execution_count": null,
   "id": "b4991bd2-5111-452d-8aec-af1d43742117",
   "metadata": {
    "colab": {},
    "colab_type": "code",
    "id": "EXdA9JjO6x_o"
   },
   "outputs": [],
   "source": [
    "x_2_individual_model = tf.keras.models.Sequential([\n",
    "  tf.keras.layers.Input(shape=(23,)), \n",
    "\n",
    "  tf.keras.layers.Dense(256, activation='relu'),\n",
    "  tf.keras.layers.Dense(256, activation='relu'),\n",
    "  \n",
    "  tf.keras.layers.Dropout(0.2),\n",
    "\n",
    "  tf.keras.layers.Dense(256, activation='relu'),\n",
    "  tf.keras.layers.Dense(256, activation='relu'),\n",
    "  \n",
    "  tf.keras.layers.Dropout(0.2),\n",
    "\n",
    "  tf.keras.layers.Dense(256, activation='relu'),\n",
    "  tf.keras.layers.Dense(256, activation='relu'), \n",
    "                                       \n",
    "  tf.keras.layers.Dense(2, activation='softmax')\n",
    "])\n",
    "\n",
    "x_2_individual_model.compile(optimizer='sgd',\n",
    "              loss=tf.keras.losses.CategoricalCrossentropy(),\n",
    "              metrics=[tf.keras.metrics.CategoricalAccuracy()])"
   ]
  },
  {
   "cell_type": "code",
   "execution_count": null,
   "id": "b7994bdc-ec82-48e3-9894-2b88148a4020",
   "metadata": {},
   "outputs": [],
   "source": [
    "#x_2_individual training\n",
    "x_2_individual_hist=x_2_individual_model.fit(train_dataset_individual[1], epochs=Epochs, validation_data=test_dataset_central[0])"
   ]
  },
  {
   "cell_type": "code",
   "execution_count": null,
   "id": "30f7e2c9-c88a-4f87-93e9-0b574331dc38",
   "metadata": {
    "colab": {},
    "colab_type": "code",
    "id": "aMVI0zTC8CGN"
   },
   "outputs": [],
   "source": [
    "def model_instance():\n",
    "    \"\"\"Instantiates the keras model.\"\"\"\n",
    "    federated_model = tf.keras.models.Sequential([\n",
    "    tf.keras.layers.Input(shape=(23,)), \n",
    "\n",
    "    tf.keras.layers.Dense(256, activation='relu'),\n",
    "    tf.keras.layers.Dense(256, activation='relu'),\n",
    "    \n",
    "    tf.keras.layers.Dropout(0.2),\n",
    "\n",
    "    tf.keras.layers.Dense(256, activation='relu'),\n",
    "    tf.keras.layers.Dense(256, activation='relu'),\n",
    "    \n",
    "    tf.keras.layers.Dropout(0.2),\n",
    "\n",
    "    tf.keras.layers.Dense(256, activation='relu'),\n",
    "    tf.keras.layers.Dense(256, activation='relu'), \n",
    "                                        \n",
    "    tf.keras.layers.Dense(2, activation='softmax')\n",
    "    ])\n",
    "    federated_model.compile(optimizer='sgd',\n",
    "              loss=tf.keras.losses.CategoricalCrossentropy(),\n",
    "              metrics=[tf.keras.metrics.CategoricalAccuracy()])\n",
    "    return tff.learning.from_compiled_keras_model(federated_model, batch_of_samples)"
   ]
  },
  {
   "cell_type": "code",
   "execution_count": null,
   "id": "d025d05e-a71c-4e77-a09c-c679ee3746d7",
   "metadata": {
    "colab": {},
    "colab_type": "code",
    "id": "8pCVQ_978N5i"
   },
   "outputs": [],
   "source": [
    "federated_data=train_dataset_individual"
   ]
  },
  {
   "cell_type": "code",
   "execution_count": null,
   "id": "951e3ed9-4892-4a4e-a8ff-702b0446ab55",
   "metadata": {},
   "outputs": [],
   "source": [
    "federated_learning_iterative_process = tff.learning.build_federated_averaging_process(\n",
    "    model_instance\n",
    ")"
   ]
  },
  {
   "cell_type": "code",
   "execution_count": null,
   "id": "774d67ea-f566-4a92-9e1a-85cc706eae3c",
   "metadata": {
    "colab": {},
    "colab_type": "code",
    "id": "gkPHdbb68TBz"
   },
   "outputs": [],
   "source": [
    "state = federated_learning_iterative_process.initialize()"
   ]
  },
  {
   "cell_type": "code",
   "execution_count": null,
   "id": "c7154580-e531-4834-ab4a-3eea029362eb",
   "metadata": {},
   "outputs": [],
   "source": [
    "evaluation = tff.learning.build_federated_evaluation(model_instance)"
   ]
  },
  {
   "cell_type": "code",
   "execution_count": null,
   "id": "62fab5f1-8aac-469c-aacd-2873f1961a96",
   "metadata": {},
   "outputs": [],
   "source": [
    "#train federated model\n",
    "EPOCHS=600\n",
    "fed_sparse_categorical_accuracy=[]\n",
    "fed_loss=[]\n",
    "fed_val_sparse_categorical_accuracy=[]\n",
    "fed_val_loss=[] \n",
    "for n in range(EPOCHS):\n",
    "    state, metrics = federated_learning_iterative_process.next(state, federated_data)\n",
    "    fed_sparse_categorical_accuracy.append(metrics[0])\n",
    "    fed_loss.append(metrics[1])\n",
    "    test_metrics = evaluation(state.model, [test_dataset_central[0],test_dataset_central[0]])\n",
    "    fed_val_sparse_categorical_accuracy.append(test_metrics[0])\n",
    "    fed_val_loss.append(test_metrics[1])                \n",
    "    print('round  {}, fed_loss: {} - fed_sparse_categorical_accuracy: {} - fed_val_loss: {}- fed_val_sparse_categorical_accuracy: {}'.format(n+1, metrics[1], metrics[0], test_metrics[1], test_metrics[0] ))\n",
    "\n"
   ]
  },
  {
   "cell_type": "code",
   "execution_count": null,
   "id": "503666e3-7d4c-48ba-b21d-96b9f1f85bc1",
   "metadata": {
    "colab": {},
    "colab_type": "code",
    "id": "xIl8e27urzjG"
   },
   "outputs": [],
   "source": [
    "tffweights = tff.learning.model_utils.ModelWeights.from_tff_result(state.model)"
   ]
  },
  {
   "cell_type": "code",
   "execution_count": null,
   "id": "72c33be3-baa6-46d5-a098-0cd86ce1179b",
   "metadata": {
    "colab": {},
    "colab_type": "code",
    "id": "o91uIu9nnxWI"
   },
   "outputs": [],
   "source": [
    "tffweights.assign_weights_to(federated_model)"
   ]
  },
  {
   "cell_type": "code",
   "execution_count": 141,
   "id": "77dec63a-d671-4f37-a72a-1a5e89a68d0b",
   "metadata": {
    "colab": {
     "base_uri": "https://localhost:8080/",
     "height": 490
    },
    "colab_type": "code",
    "executionInfo": {
     "elapsed": 693,
     "status": "ok",
     "timestamp": 1584781971150,
     "user": {
      "displayName": "MAJEED UMER[학생](대학원 컴퓨터공학과) ‍",
      "photoUrl": "",
      "userId": "09904507153320373005"
     },
     "user_tz": -540
    },
    "id": "ojCKJFeAXUcl",
    "outputId": "394a88c8-82bc-4349-8b58-e596bfa7a65b"
   },
   "outputs": [
    {
     "name": "stdout",
     "output_type": "stream",
     "text": [
      "Model: \"sequential\"\n",
      "_________________________________________________________________\n",
      "Layer (type)                 Output Shape              Param #   \n",
      "=================================================================\n",
      "dense (Dense)                (None, 256)               6144      \n",
      "_________________________________________________________________\n",
      "dense_1 (Dense)              (None, 256)               65792     \n",
      "_________________________________________________________________\n",
      "dropout (Dropout)            (None, 256)               0         \n",
      "_________________________________________________________________\n",
      "dense_2 (Dense)              (None, 256)               65792     \n",
      "_________________________________________________________________\n",
      "dense_3 (Dense)              (None, 256)               65792     \n",
      "_________________________________________________________________\n",
      "dropout_1 (Dropout)          (None, 256)               0         \n",
      "_________________________________________________________________\n",
      "dense_4 (Dense)              (None, 256)               65792     \n",
      "_________________________________________________________________\n",
      "dense_5 (Dense)              (None, 256)               65792     \n",
      "_________________________________________________________________\n",
      "dense_6 (Dense)              (None, 2)                 514       \n",
      "=================================================================\n",
      "Total params: 335,618\n",
      "Trainable params: 335,618\n",
      "Non-trainable params: 0\n",
      "_________________________________________________________________\n"
     ]
    }
   ],
   "source": [
    "cental_model.summary()"
   ]
  },
  {
   "cell_type": "code",
   "execution_count": null,
   "id": "094d2c23-bf8f-4d34-b3eb-78964f0d1cd1",
   "metadata": {},
   "outputs": [],
   "source": [
    "display_epoch=600"
   ]
  },
  {
   "cell_type": "code",
   "execution_count": null,
   "id": "765f2a11-b920-43d6-a5b0-3f647df20126",
   "metadata": {},
   "outputs": [],
   "source": [
    "t = np.arange(1, display_epoch+1, 1)"
   ]
  },
  {
   "cell_type": "code",
   "execution_count": 54,
   "id": "7e381a05-e98a-4612-90ee-4e5fe32b14ad",
   "metadata": {
    "colab": {
     "base_uri": "https://localhost:8080/",
     "height": 176
    },
    "colab_type": "code",
    "executionInfo": {
     "elapsed": 762,
     "status": "ok",
     "timestamp": 1595217764366,
     "user": {
      "displayName": "MAJEED UMER[학생](대학원 컴퓨터공학과) ‍",
      "photoUrl": "",
      "userId": "09904507153320373005"
     },
     "user_tz": -540
    },
    "id": "9alaU9OCU3UZ",
    "outputId": "0394109d-2dc2-40c0-b488-dad6e8377e2d"
   },
   "outputs": [
    {
     "data": {
      "image/png": "[encoded data removed]",
      "text/plain": [
       "<Figure size 340.157x170.079 with 2 Axes>"
      ]
     },
     "metadata": {
      "needs_background": "light",
      "tags": []
     },
     "output_type": "display_data"
    }
   ],
   "source": [
    "fig, ax = plt.subplots(figsize=(12.0/2.54, 6.0/2.54)) # create a new figure with a default 111 subplot\n",
    "ax.plot(t, cental_model_hist.history['categorical_accuracy'][:display_epoch],'g-',x_1_individual_hist.history['categorical_accuracy'][:display_epoch],'b-',x_2_individual_hist.history['categorical_accuracy'][:display_epoch],'r-',fed_sparse_categorical_accuracy[:display_epoch],'m-')\n",
    "plt.legend([r'$M_C$',r'$M_I$',r'$M_J$',r'$M_F$'])\n",
    "from mpl_toolkits.axes_grid1.inset_locator import zoomed_inset_axes\n",
    "axins = zoomed_inset_axes(ax, 2, loc=8, bbox_to_anchor=(170,1,1,1), borderpad=4) # zoom-factor: 2.5, location: upper-left\n",
    "axins.plot(t, cental_model_hist.history['categorical_accuracy'][:display_epoch],'g-',x_1_individual_hist.history['categorical_accuracy'][:display_epoch],'b-',x_2_individual_hist.history['categorical_accuracy'][:display_epoch],'r-',fed_sparse_categorical_accuracy[:display_epoch],'m-')\n",
    "x1, x2, y1, y2 = 500, 600, 0.85, 0.91 # specify the limits\n",
    "\n",
    "mark_inset(ax, axins, loc1=2, loc2=4, fc=\"none\", ec=\"0.5\")\n",
    "axins.set_xlim(x1, x2) # apply the x-limits\n",
    "axins.set_ylim(y1, y2) # apply the y-limits\n",
    "plt.show()"
   ]
  },
  {
   "cell_type": "code",
   "execution_count": 63,
   "id": "3f762bb8-85cb-4e8b-ba9e-afa844ffa5d4",
   "metadata": {
    "colab": {
     "base_uri": "https://localhost:8080/",
     "height": 176
    },
    "colab_type": "code",
    "executionInfo": {
     "elapsed": 931,
     "status": "ok",
     "timestamp": 1595218056121,
     "user": {
      "displayName": "MAJEED UMER[학생](대학원 컴퓨터공학과) ‍",
      "photoUrl": "",
      "userId": "09904507153320373005"
     },
     "user_tz": -540
    },
    "id": "KWl_B_plUGCs",
    "outputId": "0f65b7cd-51c4-4a5c-b802-04aee49f3d29"
   },
   "outputs": [
    {
     "data": {
      "image/png": "[encoded data removed]",
      "text/plain": [
       "<Figure size 340.157x170.079 with 2 Axes>"
      ]
     },
     "metadata": {
      "needs_background": "light",
      "tags": []
     },
     "output_type": "display_data"
    }
   ],
   "source": [
    "fig, ax = plt.subplots(figsize=(12.0/2.54, 6.0/2.54)) # create a new figure170 with a default 111 subplot\n",
    "ax.plot(t, cental_model_hist.history['val_categorical_accuracy'][:display_epoch],'g-',x_1_individual_hist.history['val_categorical_accuracy'][:display_epoch],'b-',x_2_individual_hist.history['val_categorical_accuracy'][:display_epoch],'r-',fed_val_sparse_categorical_accuracy[:display_epoch],'m-')\n",
    "plt.legend([r'$M_C$',r'$M_I$',r'$M_J$',r'$M_F$'])\n",
    "from mpl_toolkits.axes_grid1.inset_locator import zoomed_inset_axes\n",
    "axins = zoomed_inset_axes(ax, 2, loc=8, bbox_to_anchor=(180,0,1,1), borderpad=4) # zoom-factor: 2.5, location: upper-left\n",
    "axins.plot(t, cental_model_hist.history['val_categorical_accuracy'][:display_epoch],'g-',x_1_individual_hist.history['val_categorical_accuracy'][:display_epoch],'b-',x_2_individual_hist.history['val_categorical_accuracy'][:display_epoch],'r-',fed_val_sparse_categorical_accuracy[:display_epoch],'m-')\n",
    "x1, x2, y1, y2 = 500, 600, 0.82, 0.885 # specify the limits\n",
    "\n",
    "mark_inset(ax, axins, loc1=2, loc2=4, fc=\"none\", ec=\"0.5\")\n",
    "axins.set_xlim(x1, x2) # apply the x-limits\n",
    "axins.set_ylim(y1, y2) # apply the y-limits\n",
    "plt.show()"
   ]
  },
  {
   "cell_type": "code",
   "execution_count": null,
   "id": "18882525-7750-4d6a-90f7-0cace44d9766",
   "metadata": {},
   "outputs": [],
   "source": []
  },
  {
   "cell_type": "code",
   "execution_count": null,
   "id": "066c5e11-be8a-4e15-84e4-f1931f3cd000",
   "metadata": {},
   "outputs": [],
   "source": []
  }
 ],
 "metadata": {
  "kernelspec": {
   "display_name": "dle",
   "language": "python",
   "name": "dle"
  },
  "language_info": {
   "codemirror_mode": {
    "name": "ipython",
    "version": 3
   },
   "file_extension": ".py",
   "mimetype": "text/x-python",
   "name": "python",
   "nbconvert_exporter": "python",
   "pygments_lexer": "ipython3",
   "version": "3.10.12"
  }
 },
 "nbformat": 4,
 "nbformat_minor": 5
}
