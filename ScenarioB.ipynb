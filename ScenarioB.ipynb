{
 "cells": [
  {
   "cell_type": "code",
   "execution_count": null,
   "id": "e43c167f-1e16-4be2-b805-76f6d444c2be",
   "metadata": {
    "colab": {},
    "colab_type": "code",
    "id": "riNTxZEtvMcS"
   },
   "outputs": [],
   "source": [
    "import pandas as pd"
   ]
  },
  {
   "cell_type": "code",
   "execution_count": null,
   "id": "c4e0c4fb-9c98-46fb-8338-69aefc3987d9",
   "metadata": {
    "colab": {},
    "colab_type": "code",
    "id": "DirUarD3w_vI"
   },
   "outputs": [],
   "source": [
    "from sklearn.preprocessing import LabelEncoder\n",
    "le= LabelEncoder()"
   ]
  },
  {
   "cell_type": "code",
   "execution_count": null,
   "id": "53015761-6035-4885-b0b5-b9db7e1e1a31",
   "metadata": {
    "colab": {},
    "colab_type": "code",
    "id": "t6kv-BFExE4d"
   },
   "outputs": [],
   "source": [
    "datasetScenearioB120 = pd.read_csv(\"datasetScenearioB120.csv\", header=None, \n",
    " names=['duration',\n",
    " 'total_fiat',\n",
    " 'total_biat',\n",
    " 'min_fiat',\n",
    " 'min_biat',\n",
    " 'max_fiat',\n",
    " 'max_biat',\n",
    " 'mean_fiat',\n",
    " 'mean_biat',\n",
    " 'flowPktsPerSecond',\n",
    " 'flowBytesPerSecond',\n",
    " 'min_flowiat',\n",
    " 'max_flowiat',\n",
    " 'mean_flowiat',\n",
    " 'std_flowiat',\n",
    " 'min_active',\n",
    " 'mean_active',\n",
    " 'max_active',\n",
    " 'std_active',\n",
    " 'min_idle',\n",
    " 'mean_idle',\n",
    " 'max_idle',\n",
    " 'std_idle',\n",
    " 'class'])\n",
    "\n",
    "datasetScenearioB120['encoded_class']=le.fit_transform(datasetScenearioB120['class'])"
   ]
  },
  {
   "cell_type": "code",
   "execution_count": 7,
   "id": "75106c8e-7a18-4263-b737-4a73d07744d4",
   "metadata": {
    "colab": {
     "base_uri": "https://localhost:8080/",
     "height": 72
    },
    "colab_type": "code",
    "executionInfo": {
     "elapsed": 1337,
     "status": "ok",
     "timestamp": 1585033473270,
     "user": {
      "displayName": "MAJEED UMER[학생](대학원 컴퓨터공학과) ‍",
      "photoUrl": "",
      "userId": "09904507153320373005"
     },
     "user_tz": -540
    },
    "id": "HH5f2hJrxHYN",
    "outputId": "9d4e6a2a-0ee8-44e6-b4ab-c41cbe168d81"
   },
   "outputs": [
    {
     "data": {
      "text/plain": [
       "array(['BROWSING', 'CHAT', 'FT', 'MAIL', 'P2P', 'STREAMING', 'VOIP',\n",
       "       'VPN-BROWSING', 'VPN-CHAT', 'VPN-FT', 'VPN-MAIL', 'VPN-P2P',\n",
       "       'VPN-STREAMING', 'VPN-VOIP'], dtype=object)"
      ]
     },
     "execution_count": 7,
     "metadata": {
      "tags": []
     },
     "output_type": "execute_result"
    }
   ],
   "source": [
    "le.classes_"
   ]
  },
  {
   "cell_type": "code",
   "execution_count": 8,
   "id": "d6437925-8cd5-44b2-8145-4aff58a5953a",
   "metadata": {
    "colab": {
     "base_uri": "https://localhost:8080/",
     "height": 55
    },
    "colab_type": "code",
    "executionInfo": {
     "elapsed": 1490,
     "status": "ok",
     "timestamp": 1585033475644,
     "user": {
      "displayName": "MAJEED UMER[학생](대학원 컴퓨터공학과) ‍",
      "photoUrl": "",
      "userId": "09904507153320373005"
     },
     "user_tz": -540
    },
    "id": "6Eb4YKy9xJhp",
    "outputId": "cbc1c2f7-249c-4fdf-a303-98a6c7a3a97f"
   },
   "outputs": [
    {
     "name": "stdout",
     "output_type": "stream",
     "text": [
      "{'BROWSING': 0, 'CHAT': 1, 'FT': 2, 'MAIL': 3, 'P2P': 4, 'STREAMING': 5, 'VOIP': 6, 'VPN-BROWSING': 7, 'VPN-CHAT': 8, 'VPN-FT': 9, 'VPN-MAIL': 10, 'VPN-P2P': 11, 'VPN-STREAMING': 12, 'VPN-VOIP': 13}\n"
     ]
    }
   ],
   "source": [
    "le_name_mapping = dict(zip(le.classes_, le.transform(le.classes_)))\n",
    "print(le_name_mapping)"
   ]
  },
  {
   "cell_type": "code",
   "execution_count": null,
   "id": "3c462c22-2f74-46c7-8d03-fdb6ba25909c",
   "metadata": {
    "colab": {},
    "colab_type": "code",
    "id": "EoBpo8VynCZG"
   },
   "outputs": [],
   "source": [
    "datasetScenearioB120=datasetScenearioB120.drop(columns=['class'])\n",
    "\n",
    "datasetB120Norm=((datasetScenearioB120-datasetScenearioB120.mean())/(datasetScenearioB120.std()))\n",
    "\n",
    "datasetB120Norm['encoded_class']=datasetScenearioB120['encoded_class']"
   ]
  },
  {
   "cell_type": "code",
   "execution_count": null,
   "id": "572dd5d1-163d-4466-a9f5-c6d7396312ad",
   "metadata": {
    "colab": {},
    "colab_type": "code",
    "id": "Dwc3N4QiWwQ1"
   },
   "outputs": [],
   "source": [
    "datasetScenearioB60 = pd.read_csv(\"datasetScenearioB60.csv\", header=None, \n",
    " names=['duration',\n",
    " 'total_fiat',\n",
    " 'total_biat',\n",
    " 'min_fiat',\n",
    " 'min_biat',\n",
    " 'max_fiat',\n",
    " 'max_biat',\n",
    " 'mean_fiat',\n",
    " 'mean_biat',\n",
    " 'flowPktsPerSecond',\n",
    " 'flowBytesPerSecond',\n",
    " 'min_flowiat',\n",
    " 'max_flowiat',\n",
    " 'mean_flowiat',\n",
    " 'std_flowiat',\n",
    " 'min_active',\n",
    " 'mean_active',\n",
    " 'max_active',\n",
    " 'std_active',\n",
    " 'min_idle',\n",
    " 'mean_idle',\n",
    " 'max_idle',\n",
    " 'std_idle',\n",
    " 'class'])\n",
    "\n",
    "datasetScenearioB60['encoded_class']=le.fit_transform(datasetScenearioB60['class'])\n",
    "\n",
    "datasetScenearioB60=datasetScenearioB60.drop(columns=['class'])\n",
    "\n",
    "datasetB60Norm=((datasetScenearioB60-datasetScenearioB60.mean())/(datasetScenearioB60.std()))\n",
    "\n",
    "datasetB60Norm['encoded_class']=datasetScenearioB60['encoded_class']"
   ]
  },
  {
   "cell_type": "code",
   "execution_count": null,
   "id": "938f194f",
   "metadata": {
    "colab": {},
    "colab_type": "code",
    "id": "Dwc3N4QiWwQ1"
   },
   "outputs": [],
   "source": [
    "datasetScenearioB30 = pd.read_csv(\"datasetScenearioB60.csv\", header=None, \n",
    " names=['duration',\n",
    " 'total_fiat',\n",
    " 'total_biat',\n",
    " 'min_fiat',\n",
    " 'min_biat',\n",
    " 'max_fiat',\n",
    " 'max_biat',\n",
    " 'mean_fiat',\n",
    " 'mean_biat',\n",
    " 'flowPktsPerSecond',\n",
    " 'flowBytesPerSecond',\n",
    " 'min_flowiat',\n",
    " 'max_flowiat',\n",
    " 'mean_flowiat',\n",
    " 'std_flowiat',\n",
    " 'min_active',\n",
    " 'mean_active',\n",
    " 'max_active',\n",
    " 'std_active',\n",
    " 'min_idle',\n",
    " 'mean_idle',\n",
    " 'max_idle',\n",
    " 'std_idle',\n",
    " 'class'])\n",
    "\n",
    "datasetScenearioB30['encoded_class']=le.fit_transform(datasetScenearioB30['class'])\n",
    "\n",
    "datasetScenearioB30=datasetScenearioB30.drop(columns=['class'])\n",
    "\n",
    "datasetB30Norm=((datasetScenearioB30-datasetScenearioB30.mean())/(datasetScenearioB30.std()))\n",
    "\n",
    "datasetB30Norm['encoded_class']=datasetB30Norm['encoded_class']"
   ]
  },
  {
   "cell_type": "code",
   "execution_count": null,
   "id": "130618e4-c747-46ef-80bc-5d08af93ee25",
   "metadata": {
    "colab": {},
    "colab_type": "code",
    "id": "1o-O1iDkX093"
   },
   "outputs": [],
   "source": [
    "datasetScenearioB15 = pd.read_csv(\"datasetScenearioB15.csv\", header=None, \n",
    " names=['duration',\n",
    " 'total_fiat',\n",
    " 'total_biat',\n",
    " 'min_fiat',\n",
    " 'min_biat',\n",
    " 'max_fiat',\n",
    " 'max_biat',\n",
    " 'mean_fiat',\n",
    " 'mean_biat',\n",
    " 'flowPktsPerSecond',\n",
    " 'flowBytesPerSecond',\n",
    " 'min_flowiat',\n",
    " 'max_flowiat',\n",
    " 'mean_flowiat',\n",
    " 'std_flowiat',\n",
    " 'min_active',\n",
    " 'mean_active',\n",
    " 'max_active',\n",
    " 'std_active',\n",
    " 'min_idle',\n",
    " 'mean_idle',\n",
    " 'max_idle',\n",
    " 'std_idle',\n",
    " 'class'])\n",
    "datasetScenearioB15['encoded_class']=le.fit_transform(datasetScenearioB15['class'])\n",
    "datasetScenearioB15=datasetScenearioB15.drop(columns=['class'])\n",
    "datasetB15Norm=((datasetScenearioB15-datasetScenearioB15.mean())/(datasetScenearioB15.std()))\n",
    "datasetB15Norm['encoded_class']=datasetScenearioB15['encoded_class']"
   ]
  },
  {
   "cell_type": "code",
   "execution_count": null,
   "id": "7e76f3b4-daa5-4070-ac76-9de07c73cb7e",
   "metadata": {
    "colab": {},
    "colab_type": "code",
    "id": "vU87N3UeYXrc"
   },
   "outputs": [],
   "source": [
    "dataNorm=datasetB120Norm\n",
    "\n",
    "dataNorm=dataNorm.append(datasetB60Norm, ignore_index=True)\n",
    "dataNorm=dataNorm.append(datasetB30Norm, ignore_index=True)\n",
    "dataNorm=dataNorm.append(datasetB15Norm, ignore_index=True)"
   ]
  },
  {
   "cell_type": "code",
   "execution_count": null,
   "id": "f7b091e7-bfad-4f84-b2f1-bf5ea8ff3966",
   "metadata": {
    "colab": {
     "base_uri": "https://localhost:8080/",
     "height": 472
    },
    "colab_type": "code",
    "executionInfo": {
     "elapsed": 127,
     "status": "ok",
     "timestamp": 1585023201038,
     "user": {
      "displayName": "MAJEED UMER[학생](대학원 컴퓨터공학과) ‍",
      "photoUrl": "",
      "userId": "09904507153320373005"
     },
     "user_tz": -540
    },
    "id": "cdLNGFa97u9b",
    "outputId": "e75d1a99-69db-492e-9a0b-66af5dd9cc00"
   },
   "outputs": [
    {
     "data": {
      "text/plain": [
       "duration              float64\n",
       "total_fiat            float64\n",
       "total_biat            float64\n",
       "min_fiat              float64\n",
       "min_biat              float64\n",
       "max_fiat              float64\n",
       "max_biat              float64\n",
       "mean_fiat             float64\n",
       "mean_biat             float64\n",
       "flowPktsPerSecond     float64\n",
       "flowBytesPerSecond    float64\n",
       "min_flowiat           float64\n",
       "max_flowiat           float64\n",
       "mean_flowiat          float64\n",
       "std_flowiat           float64\n",
       "min_active            float64\n",
       "mean_active           float64\n",
       "max_active            float64\n",
       "std_active            float64\n",
       "min_idle              float64\n",
       "mean_idle             float64\n",
       "max_idle              float64\n",
       "std_idle              float64\n",
       "encoded_class           int64\n",
       "dtype: object"
      ]
     },
     "execution_count": 50,
     "metadata": {
      "tags": []
     },
     "output_type": "execute_result"
    }
   ],
   "source": [
    "dataNorm.dtypes"
   ]
  },
  {
   "cell_type": "code",
   "execution_count": null,
   "id": "57c67b2d-60ec-4699-97ee-bd71b94da6ef",
   "metadata": {
    "colab": {},
    "colab_type": "code",
    "id": "BIL_Q9VpxQO6"
   },
   "outputs": [],
   "source": [
    "from sklearn.model_selection import train_test_split"
   ]
  },
  {
   "cell_type": "code",
   "execution_count": null,
   "id": "208bac51-a068-4b24-b74e-6d7a9e19da78",
   "metadata": {
    "colab": {},
    "colab_type": "code",
    "id": "x3QlnCR4xZem"
   },
   "outputs": [],
   "source": [
    "df_total_numeric_features=dataNorm[['duration',\n",
    " 'total_fiat',\n",
    " 'total_biat',\n",
    " 'min_fiat',\n",
    " 'min_biat',\n",
    " 'max_fiat',\n",
    " 'max_biat',\n",
    " 'mean_fiat',\n",
    " 'mean_biat',\n",
    " 'flowPktsPerSecond',\n",
    " 'flowBytesPerSecond',\n",
    " 'min_flowiat',\n",
    " 'max_flowiat',\n",
    " 'mean_flowiat',\n",
    " 'std_flowiat',\n",
    " 'min_active',\n",
    " 'mean_active',\n",
    " 'max_active',\n",
    " 'std_active',\n",
    " 'min_idle',\n",
    " 'mean_idle',\n",
    " 'max_idle',\n",
    " 'std_idle']].to_numpy()"
   ]
  },
  {
   "cell_type": "code",
   "execution_count": null,
   "id": "f0cd3c9e-b041-4f4c-96ca-72df3be2ab41",
   "metadata": {
    "colab": {},
    "colab_type": "code",
    "id": "n5eo6zN6xdb8"
   },
   "outputs": [],
   "source": [
    "df_total_numeric_label=dataNorm[['encoded_class']].to_numpy()"
   ]
  },
  {
   "cell_type": "code",
   "execution_count": 52,
   "id": "8e5ce5c9-b8d1-4113-abe6-452b0cbb1061",
   "metadata": {
    "colab": {
     "base_uri": "https://localhost:8080/",
     "height": 35
    },
    "colab_type": "code",
    "executionInfo": {
     "elapsed": 2817,
     "status": "ok",
     "timestamp": 1585033989281,
     "user": {
      "displayName": "MAJEED UMER[학생](대학원 컴퓨터공학과) ‍",
      "photoUrl": "",
      "userId": "09904507153320373005"
     },
     "user_tz": -540
    },
    "id": "tC0SrtRbBejS",
    "outputId": "8d4947da-ce2f-4296-8b93-1f07580e044b"
   },
   "outputs": [
    {
     "name": "stdout",
     "output_type": "stream",
     "text": [
      "TensorFlow 2.x selected.\n"
     ]
    }
   ],
   "source": [
    "try:\n",
    "  # Use the %tensorflow_version magic if in colab.\n",
    "  %tensorflow_version 2.x\n",
    "except Exception:\n",
    "  pass\n",
    "\n",
    "import tensorflow as tf"
   ]
  },
  {
   "cell_type": "code",
   "execution_count": 53,
   "id": "36bfa369-4ea9-4d9c-bc66-db6a356d3432",
   "metadata": {
    "colab": {
     "base_uri": "https://localhost:8080/",
     "height": 35
    },
    "colab_type": "code",
    "executionInfo": {
     "elapsed": 1400,
     "status": "ok",
     "timestamp": 1585033989282,
     "user": {
      "displayName": "MAJEED UMER[학생](대학원 컴퓨터공학과) ‍",
      "photoUrl": "",
      "userId": "09904507153320373005"
     },
     "user_tz": -540
    },
    "id": "BwNBUcfnA7XZ",
    "outputId": "98111d14-d1c3-402e-fd5e-d7cf6e2ea811"
   },
   "outputs": [
    {
     "name": "stderr",
     "output_type": "stream",
     "text": [
      "Using TensorFlow backend.\n"
     ]
    }
   ],
   "source": [
    "from keras.utils import to_categorical"
   ]
  },
  {
   "cell_type": "code",
   "execution_count": null,
   "id": "90aeddae-cda9-4f10-a1ec-a5e15dd4504c",
   "metadata": {
    "colab": {},
    "colab_type": "code",
    "id": "yBC3PdSYA627"
   },
   "outputs": [],
   "source": [
    "ohe_label = to_categorical(df_total_numeric_label)"
   ]
  },
  {
   "cell_type": "code",
   "execution_count": null,
   "id": "a657b23f-1ea6-4cc2-ac1e-7cccb1efe851",
   "metadata": {
    "colab": {
     "base_uri": "https://localhost:8080/",
     "height": 54
    },
    "colab_type": "code",
    "executionInfo": {
     "elapsed": 1160,
     "status": "ok",
     "timestamp": 1584954128574,
     "user": {
      "displayName": "MAJEED UMER[학생](대학원 컴퓨터공학과) ‍",
      "photoUrl": "",
      "userId": "09904507153320373005"
     },
     "user_tz": -540
    },
    "id": "N0kmeCD8BKna",
    "outputId": "8cbc4bd0-35d0-4c14-a412-a31b7df0eca3"
   },
   "outputs": [
    {
     "data": {
      "text/plain": [
       "array([0., 0., 0., 0., 0., 0., 0., 0., 0., 1., 0., 0., 0., 0.],\n",
       "      dtype=float32)"
      ]
     },
     "execution_count": 62,
     "metadata": {
      "tags": []
     },
     "output_type": "execute_result"
    }
   ],
   "source": [
    "ohe_label[3000]"
   ]
  },
  {
   "cell_type": "code",
   "execution_count": null,
   "id": "a22519c1-8ed5-4c86-9725-e4a924e78ee8",
   "metadata": {
    "colab": {},
    "colab_type": "code",
    "id": "VzbTo7ZHxgQc"
   },
   "outputs": [],
   "source": [
    "X_train, X_test, y_train, y_test = train_test_split(df_total_numeric_features, ohe_label,\n",
    "                                                    stratify=ohe_label, \n",
    "                                                    test_size=0.2)"
   ]
  },
  {
   "cell_type": "code",
   "execution_count": null,
   "id": "7c1b6685-5c58-4f15-937c-9eec22bf123f",
   "metadata": {
    "colab": {},
    "colab_type": "code",
    "id": "kdpHDTkg9n9N"
   },
   "outputs": [],
   "source": [
    "import numpy as np\n",
    "(unique, counts) = np.unique(y_train, return_counts=True,axis=0)"
   ]
  },
  {
   "cell_type": "code",
   "execution_count": 59,
   "id": "ff7f609b-e372-46cf-b4b8-2592cff5b75b",
   "metadata": {
    "colab": {
     "base_uri": "https://localhost:8080/",
     "height": 290
    },
    "colab_type": "code",
    "executionInfo": {
     "elapsed": 1314,
     "status": "ok",
     "timestamp": 1585034024141,
     "user": {
      "displayName": "MAJEED UMER[학생](대학원 컴퓨터공학과) ‍",
      "photoUrl": "",
      "userId": "09904507153320373005"
     },
     "user_tz": -540
    },
    "id": "C9tzkIQZ9uAY",
    "outputId": "c4e18b8f-84e3-428a-bd8b-0a447a0da5ec"
   },
   "outputs": [
    {
     "data": {
      "text/plain": [
       "array([[0., 0., 0., 0., 0., 0., 0., 0., 0., 0., 0., 0., 0., 1.],\n",
       "       [0., 0., 0., 0., 0., 0., 0., 0., 0., 0., 0., 0., 1., 0.],\n",
       "       [0., 0., 0., 0., 0., 0., 0., 0., 0., 0., 0., 1., 0., 0.],\n",
       "       [0., 0., 0., 0., 0., 0., 0., 0., 0., 0., 1., 0., 0., 0.],\n",
       "       [0., 0., 0., 0., 0., 0., 0., 0., 0., 1., 0., 0., 0., 0.],\n",
       "       [0., 0., 0., 0., 0., 0., 0., 0., 1., 0., 0., 0., 0., 0.],\n",
       "       [0., 0., 0., 0., 0., 0., 0., 1., 0., 0., 0., 0., 0., 0.],\n",
       "       [0., 0., 0., 0., 0., 0., 1., 0., 0., 0., 0., 0., 0., 0.],\n",
       "       [0., 0., 0., 0., 0., 1., 0., 0., 0., 0., 0., 0., 0., 0.],\n",
       "       [0., 0., 0., 0., 1., 0., 0., 0., 0., 0., 0., 0., 0., 0.],\n",
       "       [0., 0., 0., 1., 0., 0., 0., 0., 0., 0., 0., 0., 0., 0.],\n",
       "       [0., 0., 1., 0., 0., 0., 0., 0., 0., 0., 0., 0., 0., 0.],\n",
       "       [0., 1., 0., 0., 0., 0., 0., 0., 0., 0., 0., 0., 0., 0.],\n",
       "       [1., 0., 0., 0., 0., 0., 0., 0., 0., 0., 0., 0., 0., 0.]],\n",
       "      dtype=float32)"
      ]
     },
     "execution_count": 59,
     "metadata": {
      "tags": []
     },
     "output_type": "execute_result"
    }
   ],
   "source": [
    "unique"
   ]
  },
  {
   "cell_type": "code",
   "execution_count": 64,
   "id": "1ae6e467-a645-4a22-9ae7-11565c873c11",
   "metadata": {
    "colab": {
     "base_uri": "https://localhost:8080/",
     "height": 35
    },
    "colab_type": "code",
    "executionInfo": {
     "elapsed": 1109,
     "status": "ok",
     "timestamp": 1585034032899,
     "user": {
      "displayName": "MAJEED UMER[학생](대학원 컴퓨터공학과) ‍",
      "photoUrl": "",
      "userId": "09904507153320373005"
     },
     "user_tz": -540
    },
    "id": "8Z32Ll4gx_rY",
    "outputId": "ce2905d3-7fd2-4683-90b1-0c8c53a4a4e2"
   },
   "outputs": [
    {
     "data": {
      "text/plain": [
       "11942"
      ]
     },
     "execution_count": 64,
     "metadata": {
      "tags": []
     },
     "output_type": "execute_result"
    }
   ],
   "source": [
    "total_test=len(X_test)\n",
    "total_test"
   ]
  },
  {
   "cell_type": "code",
   "execution_count": 65,
   "id": "fc668e5d-3215-4f33-b7b5-281145a8cbca",
   "metadata": {
    "colab": {
     "base_uri": "https://localhost:8080/",
     "height": 35
    },
    "colab_type": "code",
    "executionInfo": {
     "elapsed": 1200,
     "status": "ok",
     "timestamp": 1585034033782,
     "user": {
      "displayName": "MAJEED UMER[학생](대학원 컴퓨터공학과) ‍",
      "photoUrl": "",
      "userId": "09904507153320373005"
     },
     "user_tz": -540
    },
    "id": "afJBCAtlyEat",
    "outputId": "8db2df87-4789-4fe2-f072-1a41a52e3c8a"
   },
   "outputs": [
    {
     "data": {
      "text/plain": [
       "47764"
      ]
     },
     "execution_count": 65,
     "metadata": {
      "tags": []
     },
     "output_type": "execute_result"
    }
   ],
   "source": [
    "total_train=len(X_train)\n",
    "total_train"
   ]
  },
  {
   "cell_type": "code",
   "execution_count": null,
   "id": "3a7753e5-3458-46e4-b3bb-492e9cf82c6f",
   "metadata": {
    "colab": {},
    "colab_type": "code",
    "id": "xYdieMyzxrTb"
   },
   "outputs": [],
   "source": [
    "import matplotlib.pyplot as plt\n",
    "from tensorflow import keras\n",
    "import collections\n",
    "import numpy as np\n",
    "\n",
    "np.random.seed(1000)"
   ]
  },
  {
   "cell_type": "code",
   "execution_count": null,
   "id": "7125dd4d-f52e-4f29-ac7b-6a01c02f0b19",
   "metadata": {
    "colab": {},
    "colab_type": "code",
    "id": "vsFcRiWQysZi"
   },
   "outputs": [],
   "source": [
    "from sklearn.utils import shuffle"
   ]
  },
  {
   "cell_type": "code",
   "execution_count": null,
   "id": "2a13b540-1d61-428e-ab2a-2f40fee23e4e",
   "metadata": {
    "colab": {},
    "colab_type": "code",
    "id": "vbRm893Qyw3I"
   },
   "outputs": [],
   "source": [
    "x_train, y_train = shuffle(X_train, y_train, random_state=1000)\n",
    "x_test, y_test = shuffle(X_test, y_test, random_state=1000)"
   ]
  },
  {
   "cell_type": "code",
   "execution_count": null,
   "id": "11be470b-df30-4c40-be39-ebb456930068",
   "metadata": {
    "colab": {},
    "colab_type": "code",
    "id": "uYFk6NO70hmT"
   },
   "outputs": [],
   "source": [
    "y_train=y_train.astype('int32')"
   ]
  },
  {
   "cell_type": "code",
   "execution_count": null,
   "id": "0ded7eec-37e7-4b3a-8f66-c9871669373a",
   "metadata": {
    "colab": {},
    "colab_type": "code",
    "id": "5i3ovhxv0vFS"
   },
   "outputs": [],
   "source": [
    "x_train=x_train.astype('float32')"
   ]
  },
  {
   "cell_type": "code",
   "execution_count": 75,
   "id": "662504dc-670d-4272-a72d-a875970d3e2f",
   "metadata": {
    "colab": {
     "base_uri": "https://localhost:8080/",
     "height": 35
    },
    "colab_type": "code",
    "executionInfo": {
     "elapsed": 1034,
     "status": "ok",
     "timestamp": 1585034048090,
     "user": {
      "displayName": "MAJEED UMER[학생](대학원 컴퓨터공학과) ‍",
      "photoUrl": "",
      "userId": "09904507153320373005"
     },
     "user_tz": -540
    },
    "id": "Jnj2pPzP00f5",
    "outputId": "626822de-6b4f-473a-be45-88efac31e027"
   },
   "outputs": [
    {
     "data": {
      "text/plain": [
       "(23,)"
      ]
     },
     "execution_count": 75,
     "metadata": {
      "tags": []
     },
     "output_type": "execute_result"
    }
   ],
   "source": [
    "x_train[1].shape"
   ]
  },
  {
   "cell_type": "code",
   "execution_count": 76,
   "id": "bf0afefa-2411-4b98-82f3-294f8c4eb661",
   "metadata": {
    "colab": {
     "base_uri": "https://localhost:8080/",
     "height": 108
    },
    "colab_type": "code",
    "executionInfo": {
     "elapsed": 589,
     "status": "ok",
     "timestamp": 1585034048451,
     "user": {
      "displayName": "MAJEED UMER[학생](대학원 컴퓨터공학과) ‍",
      "photoUrl": "",
      "userId": "09904507153320373005"
     },
     "user_tz": -540
    },
    "id": "S1xCaVI9i9hA",
    "outputId": "35a753ea-c54f-4a99-9628-c96975da5727"
   },
   "outputs": [
    {
     "data": {
      "text/plain": [
       "array([-0.7514017 , -0.33743346, -0.29440844, -0.36721802, -0.5502413 ,\n",
       "       -0.43555933, -0.41528678, -0.24540085, -0.39636597, -0.12584895,\n",
       "       -0.05223464, -0.01236515, -0.37006754, -0.39831048, -0.35902438,\n",
       "       -0.30285597, -0.33993265, -0.38531542, -0.30919954, -0.2946835 ,\n",
       "       -0.32876176, -0.3698325 , -0.292495  ], dtype=float32)"
      ]
     },
     "execution_count": 76,
     "metadata": {
      "tags": []
     },
     "output_type": "execute_result"
    }
   ],
   "source": [
    "x_train[1]"
   ]
  },
  {
   "cell_type": "code",
   "execution_count": null,
   "id": "c3f35f89-b051-46c3-9c66-21e0d466f55c",
   "metadata": {
    "colab": {},
    "colab_type": "code",
    "id": "6NwYTmJH03Sp"
   },
   "outputs": [],
   "source": [
    "y_test=y_test.astype('int32')"
   ]
  },
  {
   "cell_type": "code",
   "execution_count": null,
   "id": "40ecfa29-e586-4783-a647-0a49edceb775",
   "metadata": {
    "colab": {},
    "colab_type": "code",
    "id": "O_QZzXj71NGn"
   },
   "outputs": [],
   "source": [
    "x_test=x_test.astype('float32')"
   ]
  },
  {
   "cell_type": "code",
   "execution_count": null,
   "id": "d56c1a74-ea95-45ee-95bc-bb156441e05f",
   "metadata": {
    "colab": {},
    "colab_type": "code",
    "id": "GP4Ay2JZx6tC"
   },
   "outputs": [],
   "source": [
    "CLIENTS=2\n",
    "BATCH_SIZE_train = int(total_train/2) # 23882\n",
    "BATCH_SIZE_test = int(total_test/2) #5971"
   ]
  },
  {
   "cell_type": "code",
   "execution_count": null,
   "id": "93fb0659-d484-4cee-a953-2c0de0c37113",
   "metadata": {
    "colab": {},
    "colab_type": "code",
    "id": "TWugxj10CTPH"
   },
   "outputs": [],
   "source": [
    "def generate_clients_datasets_nobatch(n, BATCH_SIZE_EXT, source_x, source_y):\n",
    "    clients_dataset=[]\n",
    "    for i in range(n):\n",
    "        dataset=tf.data.Dataset.from_tensor_slices((source_x[i*BATCH_SIZE_EXT:(i+1)*BATCH_SIZE_EXT], source_y[i*BATCH_SIZE_EXT:(i+1)*BATCH_SIZE_EXT]))\n",
    "        clients_dataset.append(dataset)\n",
    "    return clients_dataset"
   ]
  },
  {
   "cell_type": "code",
   "execution_count": null,
   "id": "09158a4b-afa3-4d3b-a353-0966d86d56f3",
   "metadata": {
    "colab": {},
    "colab_type": "code",
    "id": "wUl_iDpGyMSP"
   },
   "outputs": [],
   "source": [
    "train_dataset_central=generate_clients_datasets_nobatch(1, total_train*2, x_train, y_train)"
   ]
  },
  {
   "cell_type": "code",
   "execution_count": null,
   "id": "ab2f64b4-c350-410d-a9ec-620d46282fc2",
   "metadata": {
    "colab": {},
    "colab_type": "code",
    "id": "QN9yD8wTyMST"
   },
   "outputs": [],
   "source": [
    "test_dataset_central=generate_clients_datasets_nobatch(1, total_test*2, x_test, y_test)"
   ]
  },
  {
   "cell_type": "code",
   "execution_count": null,
   "id": "6842f2e9-0c30-4a72-ae71-3ed0f2e0c4f2",
   "metadata": {
    "colab": {},
    "colab_type": "code",
    "id": "xSX4leHbyMSW"
   },
   "outputs": [],
   "source": [
    "train_dataset_individual=generate_clients_datasets_nobatch(CLIENTS, BATCH_SIZE_train, x_train, y_train)"
   ]
  },
  {
   "cell_type": "code",
   "execution_count": null,
   "id": "596c2ebc-a621-4c3f-b905-fc23e969a608",
   "metadata": {
    "colab": {},
    "colab_type": "code",
    "id": "nQvrmAziyMSZ"
   },
   "outputs": [],
   "source": [
    "test_dataset_individual=generate_clients_datasets_nobatch(CLIENTS, BATCH_SIZE_test, x_test, y_test)"
   ]
  },
  {
   "cell_type": "code",
   "execution_count": 82,
   "id": "453687fe-2e2c-4ceb-900c-80677fd93d33",
   "metadata": {
    "colab": {
     "base_uri": "https://localhost:8080/",
     "height": 35
    },
    "colab_type": "code",
    "executionInfo": {
     "elapsed": 514,
     "status": "ok",
     "timestamp": 1583978396258,
     "user": {
      "displayName": "MAJEED UMER[학생](대학원 컴퓨터공학과) ‍",
      "photoUrl": "",
      "userId": "09904507153320373005"
     },
     "user_tz": -540
    },
    "id": "901FRMSz3iAL",
    "outputId": "59846d88-50ce-4d0f-850f-fd5cec9bdccc"
   },
   "outputs": [
    {
     "data": {
      "text/plain": [
       "<BatchDataset shapes: ((None, 23), (None, 1)), types: (tf.float32, tf.int32)>"
      ]
     },
     "execution_count": 82,
     "metadata": {
      "tags": []
     },
     "output_type": "execute_result"
    }
   ],
   "source": [
    "train_dataset_central[0]"
   ]
  },
  {
   "cell_type": "code",
   "execution_count": 83,
   "id": "c43d75fb-ee4e-4e62-9f4a-530d23fe9c39",
   "metadata": {
    "colab": {
     "base_uri": "https://localhost:8080/",
     "height": 54
    },
    "colab_type": "code",
    "executionInfo": {
     "elapsed": 597,
     "status": "ok",
     "timestamp": 1583978399281,
     "user": {
      "displayName": "MAJEED UMER[학생](대학원 컴퓨터공학과) ‍",
      "photoUrl": "",
      "userId": "09904507153320373005"
     },
     "user_tz": -540
    },
    "id": "5n6NNDTD4g__",
    "outputId": "2d280aa2-6b15-4a34-bcd8-8f667b6d3d0a"
   },
   "outputs": [
    {
     "data": {
      "text/plain": [
       "[<BatchDataset shapes: ((None, 23), (None, 1)), types: (tf.float32, tf.int32)>,\n",
       " <BatchDataset shapes: ((None, 23), (None, 1)), types: (tf.float32, tf.int32)>]"
      ]
     },
     "execution_count": 83,
     "metadata": {
      "tags": []
     },
     "output_type": "execute_result"
    }
   ],
   "source": [
    "train_dataset_individual"
   ]
  },
  {
   "cell_type": "code",
   "execution_count": null,
   "id": "b7632d60-496d-4078-8486-4f94d68b9ef6",
   "metadata": {
    "colab": {},
    "colab_type": "code",
    "id": "5x1Geuc640_H"
   },
   "outputs": [],
   "source": [
    "Epochs=1000"
   ]
  },
  {
   "cell_type": "code",
   "execution_count": null,
   "id": "7d681b56-a560-49d3-a8ba-7d2a3c831990",
   "metadata": {},
   "outputs": [],
   "source": [
    "display_epoch=1000\n",
    "t = np.arange(1, display_epoch+1, 1)"
   ]
  },
  {
   "cell_type": "code",
   "execution_count": null,
   "id": "89d72af5-d5e7-4bee-ae22-9c9badbf9730",
   "metadata": {},
   "outputs": [],
   "source": [
    "cental_model = tf.keras.models.Sequential([\n",
    "                                           \n",
    "  tf.keras.layers.Input(shape=(23,)), \n",
    "\n",
    "  tf.keras.layers.Dense(512, activation='relu'),\n",
    "  tf.keras.layers.Dense(512, activation='relu'),\n",
    "  tf.keras.layers.Dense(512, activation='relu'),\n",
    "\n",
    "  tf.keras.layers.Dropout(0.2),\n",
    "\n",
    "  tf.keras.layers.Dense(512, activation='relu'),\n",
    "  tf.keras.layers.Dense(512, activation='relu'),\n",
    "  tf.keras.layers.Dense(512, activation='relu'),\n",
    "  \n",
    "  tf.keras.layers.Dropout(0.2),\n",
    "\n",
    "  tf.keras.layers.Dense(512, activation='relu'),\n",
    "  tf.keras.layers.Dense(512, activation='relu'),\n",
    "  tf.keras.layers.Dense(512, activation='relu'), \n",
    "                                       \n",
    "  tf.keras.layers.Dense(14, activation='softmax')\n",
    "  \n",
    "])\n",
    "\n",
    "cental_model.compile(optimizer='sgd',\n",
    "              loss=tf.keras.losses.CategoricalCrossentropy(),\n",
    "              metrics=[tf.keras.metrics.CategoricalAccuracy()])"
   ]
  },
  {
   "cell_type": "code",
   "execution_count": null,
   "id": "6edf5d8f-2bcf-457c-9a41-3359e52ef6cb",
   "metadata": {},
   "outputs": [],
   "source": [
    "#central model trainiing\n",
    "cental_model_hist=cental_model.fit(train_dataset_central[0], epochs=Epochs, validation_data=(test_dataset_central[0]))"
   ]
  },
  {
   "cell_type": "code",
   "execution_count": null,
   "id": "06d1f875-a240-4af1-9395-e13b5e0531b3",
   "metadata": {
    "colab": {},
    "colab_type": "code",
    "id": "6kB06mPB5P6j"
   },
   "outputs": [],
   "source": [
    "x_1_individual_model = tf.keras.models.Sequential([\n",
    "  tf.keras.layers.Input(shape=(23,)), \n",
    "\n",
    "  tf.keras.layers.Dense(512, activation='relu'),\n",
    "  tf.keras.layers.Dense(512, activation='relu'),\n",
    "  tf.keras.layers.Dense(512, activation='relu'),\n",
    "\n",
    "  tf.keras.layers.Dropout(0.2),\n",
    "\n",
    "  tf.keras.layers.Dense(512, activation='relu'),\n",
    "  tf.keras.layers.Dense(512, activation='relu'),\n",
    "  tf.keras.layers.Dense(512, activation='relu'),\n",
    "  \n",
    "  tf.keras.layers.Dropout(0.2),\n",
    "\n",
    "  tf.keras.layers.Dense(512, activation='relu'),\n",
    "  tf.keras.layers.Dense(512, activation='relu'),\n",
    "  tf.keras.layers.Dense(512, activation='relu'), \n",
    "                                       \n",
    "  tf.keras.layers.Dense(14, activation='softmax')\n",
    "\n",
    "])\n",
    "\n",
    "x_1_individual_model.compile(optimizer='sgd',\n",
    "              loss=tf.keras.losses.CategoricalCrossentropy(),\n",
    "              metrics=[tf.keras.metrics.CategoricalAccuracy()])"
   ]
  },
  {
   "cell_type": "code",
   "execution_count": null,
   "id": "0d8fc641-947d-4d33-8caa-496436ffc8db",
   "metadata": {},
   "outputs": [],
   "source": [
    "#x_1_individual model training\n",
    "x_1_individual_hist=x_1_individual_model.fit(train_dataset_individual[0], epochs=Epochs, validation_data=(test_dataset_central[0]))"
   ]
  },
  {
   "cell_type": "code",
   "execution_count": null,
   "id": "be537346-fa8e-4094-835e-5f2adeaa7f55",
   "metadata": {
    "colab": {},
    "colab_type": "code",
    "id": "EXdA9JjO6x_o"
   },
   "outputs": [],
   "source": [
    "x_2_individual_model = tf.keras.models.Sequential([\n",
    "  tf.keras.layers.Input(shape=(23,)), \n",
    "\n",
    "  tf.keras.layers.Dense(512, activation='relu'),\n",
    "  tf.keras.layers.Dense(512, activation='relu'),\n",
    "  tf.keras.layers.Dense(512, activation='relu'),\n",
    "\n",
    "  tf.keras.layers.Dropout(0.2),\n",
    "\n",
    "  tf.keras.layers.Dense(512, activation='relu'),\n",
    "  tf.keras.layers.Dense(512, activation='relu'),\n",
    "  tf.keras.layers.Dense(512, activation='relu'),\n",
    "  \n",
    "  tf.keras.layers.Dropout(0.2),\n",
    "\n",
    "  tf.keras.layers.Dense(512, activation='relu'),\n",
    "  tf.keras.layers.Dense(512, activation='relu'),\n",
    "  tf.keras.layers.Dense(512, activation='relu'), \n",
    "                                       \n",
    "  tf.keras.layers.Dense(14, activation='softmax')\n",
    "])\n",
    "\n",
    "x_2_individual_model.compile(optimizer='sgd',\n",
    "              loss=tf.keras.losses.CategoricalCrossentropy(),\n",
    "              metrics=[tf.keras.metrics.CategoricalAccuracy()])"
   ]
  },
  {
   "cell_type": "code",
   "execution_count": null,
   "id": "e5d336a6-ce4d-4990-ae56-9f54ee31541d",
   "metadata": {},
   "outputs": [],
   "source": [
    "#x_2_individual training\n",
    "x_2_individual_hist=x_2_individual_model.fit(train_dataset_individual[1], epochs=Epochs, validation_data=test_dataset_central[0])"
   ]
  },
  {
   "cell_type": "code",
   "execution_count": null,
   "id": "94f85fcc-3c88-40ac-8505-ca13514ab758",
   "metadata": {
    "colab": {},
    "colab_type": "code",
    "id": "aMVI0zTC8CGN"
   },
   "outputs": [],
   "source": [
    "def model_instance():\n",
    "    \"\"\"Instantiates the keras model.\"\"\"\n",
    "    federated_model = tf.keras.models.Sequential([\n",
    "    tf.keras.layers.Input(shape=(23,)), \n",
    "\n",
    "    tf.keras.layers.Dense(512, activation='relu'),\n",
    "    tf.keras.layers.Dense(512, activation='relu'),\n",
    "    tf.keras.layers.Dense(512, activation='relu'),\n",
    "\n",
    "    tf.keras.layers.Dropout(0.2),\n",
    "\n",
    "    tf.keras.layers.Dense(512, activation='relu'),\n",
    "    tf.keras.layers.Dense(512, activation='relu'),\n",
    "    tf.keras.layers.Dense(512, activation='relu'),\n",
    "    \n",
    "    tf.keras.layers.Dropout(0.2),\n",
    "\n",
    "    tf.keras.layers.Dense(512, activation='relu'),\n",
    "    tf.keras.layers.Dense(512, activation='relu'),\n",
    "    tf.keras.layers.Dense(512, activation='relu'),\n",
    "    tf.keras.layers.Dense(14, activation='softmax')\n",
    "      \n",
    "    ])\n",
    "    federated_model.compile(optimizer='sgd',\n",
    "              loss=tf.keras.losses.CategoricalCrossentropy(),\n",
    "              metrics=[tf.keras.metrics.CategoricalAccuracy()])\n",
    "    return tff.learning.from_compiled_keras_model(federated_model, batch_of_samples)"
   ]
  },
  {
   "cell_type": "code",
   "execution_count": null,
   "id": "0d89a2c5-4036-4856-a44e-74b33ff9ae06",
   "metadata": {
    "colab": {},
    "colab_type": "code",
    "id": "8pCVQ_978N5i"
   },
   "outputs": [],
   "source": [
    "federated_data=train_dataset_individual"
   ]
  },
  {
   "cell_type": "code",
   "execution_count": null,
   "id": "3096da3f-2b17-4f38-8ac6-3ff7dea7bf8a",
   "metadata": {},
   "outputs": [],
   "source": [
    "federated_learning_iterative_process = tff.learning.build_federated_averaging_process(\n",
    "    model_instance\n",
    ")"
   ]
  },
  {
   "cell_type": "code",
   "execution_count": null,
   "id": "01dca76d-5685-4777-8697-9f3454514693",
   "metadata": {
    "colab": {},
    "colab_type": "code",
    "id": "gkPHdbb68TBz"
   },
   "outputs": [],
   "source": [
    "state = federated_learning_iterative_process.initialize()"
   ]
  },
  {
   "cell_type": "code",
   "execution_count": null,
   "id": "c787975d-f636-4ade-b85c-b8c83f6af585",
   "metadata": {},
   "outputs": [],
   "source": [
    "evaluation = tff.learning.build_federated_evaluation(model_instance)"
   ]
  },
  {
   "cell_type": "code",
   "execution_count": null,
   "id": "7e729701-8e3b-4521-993f-77ee8123185e",
   "metadata": {},
   "outputs": [],
   "source": [
    "#train federated model\n",
    "EPOCHS=1000\n",
    "fed_sparse_categorical_accuracy=[]\n",
    "fed_loss=[]\n",
    "fed_val_sparse_categorical_accuracy=[]\n",
    "fed_val_loss=[]\n",
    "for n in range(EPOCHS):\n",
    "    state, metrics = federated_learning_iterative_process.next(state, federated_data)\n",
    "    fed_sparse_categorical_accuracy.append(metrics[0])\n",
    "    fed_loss.append(metrics[1])\n",
    "    test_metrics = evaluation(state.model, [test_dataset_central[0],test_dataset_central[0]])\n",
    "    fed_val_sparse_categorical_accuracy.append(test_metrics[0])\n",
    "    fed_val_loss.append(test_metrics[1])                \n",
    "    print('round  {}, fed_loss: {} - fed_sparse_categorical_accuracy: {} - fed_val_loss: {}- fed_val_sparse_categorical_accuracy: {}'.format(n+1, metrics[1], metrics[0], test_metrics[1], test_metrics[0] ))\n",
    "\n"
   ]
  },
  {
   "cell_type": "code",
   "execution_count": null,
   "id": "3a5fe2f3-6ff4-4bd1-83ca-b54fc8577ca9",
   "metadata": {
    "colab": {},
    "colab_type": "code",
    "id": "FFz6olxAyMhN"
   },
   "outputs": [],
   "source": [
    "federated_model = tf.keras.models.Sequential([\n",
    "    tf.keras.layers.Input(shape=(23,)), \n",
    "\n",
    "    tf.keras.layers.Dense(512, activation='relu'),\n",
    "    tf.keras.layers.Dense(512, activation='relu'),\n",
    "    tf.keras.layers.Dense(512, activation='relu'),\n",
    "\n",
    "    tf.keras.layers.Dropout(0.2),\n",
    "\n",
    "    tf.keras.layers.Dense(512, activation='relu'),\n",
    "    tf.keras.layers.Dense(512, activation='relu'),\n",
    "    tf.keras.layers.Dense(512, activation='relu'),\n",
    "    \n",
    "    tf.keras.layers.Dropout(0.2),\n",
    "\n",
    "    tf.keras.layers.Dense(512, activation='relu'),\n",
    "    tf.keras.layers.Dense(512, activation='relu'),\n",
    "    tf.keras.layers.Dense(512, activation='relu'),\n",
    "    tf.keras.layers.Dense(14, activation='softmax')\n",
    "])\n",
    "\n",
    "federated_model.compile(optimizer='sgd',\n",
    "              loss=tf.keras.losses.CategoricalCrossentropy(),\n",
    "              metrics=[tf.keras.metrics.CategoricalAccuracy()])"
   ]
  },
  {
   "cell_type": "code",
   "execution_count": null,
   "id": "11e57558-c218-4fa4-97f8-71b70c38b56b",
   "metadata": {
    "colab": {},
    "colab_type": "code",
    "id": "-_rRVkeByaDC"
   },
   "outputs": [],
   "source": [
    "tffweights = tff.learning.model_utils.ModelWeights.from_tff_result(state.model)"
   ]
  },
  {
   "cell_type": "code",
   "execution_count": null,
   "id": "15a6299c-a4d3-4e9b-adf7-6fe2737fd952",
   "metadata": {
    "colab": {},
    "colab_type": "code",
    "id": "eeW-Y5iOyftf"
   },
   "outputs": [],
   "source": [
    "tffweights.assign_weights_to(federated_model)"
   ]
  },
  {
   "cell_type": "code",
   "execution_count": null,
   "id": "094d2c23-bf8f-4d34-b3eb-78964f0d1cd1",
   "metadata": {},
   "outputs": [],
   "source": [
    "display_epoch=1000"
   ]
  },
  {
   "cell_type": "code",
   "execution_count": null,
   "id": "765f2a11-b920-43d6-a5b0-3f647df20126",
   "metadata": {},
   "outputs": [],
   "source": [
    "t = np.arange(1, display_epoch+1, 1)"
   ]
  },
  {
   "cell_type": "code",
   "execution_count": 89,
   "id": "bbcb5405-6c21-45d8-b85e-59dab9eace45",
   "metadata": {
    "colab": {
     "base_uri": "https://localhost:8080/",
     "height": 176
    },
    "colab_type": "code",
    "executionInfo": {
     "elapsed": 1146,
     "status": "ok",
     "timestamp": 1595219573123,
     "user": {
      "displayName": "MAJEED UMER[학생](대학원 컴퓨터공학과) ‍",
      "photoUrl": "",
      "userId": "09904507153320373005"
     },
     "user_tz": -540
    },
    "id": "MDrG-1wpRjb3",
    "outputId": "9459a040-6df8-4f87-c94a-69bc6ae250d2"
   },
   "outputs": [
    {
     "data": {
      "image/png": "[encoded data removed]",
      "text/plain": [
       "<Figure size 340.157x170.079 with 2 Axes>"
      ]
     },
     "metadata": {
      "needs_background": "light",
      "tags": []
     },
     "output_type": "display_data"
    }
   ],
   "source": [
    "fig, ax = plt.subplots(figsize=(12.0/2.54, 6.0/2.54)) # create a new figure with a default 111 subplot\n",
    "ax.set_yticks(np.arange(0.3, 0.9, step=0.1))\n",
    "ax.plot(t, cental_model_hist.history['categorical_accuracy'][:display_epoch],'g-',x_1_individual_hist.history['categorical_accuracy'][:display_epoch],'b-',x_2_individual_hist.history['categorical_accuracy'][:display_epoch],'r-',fed_sparse_categorical_accuracy[:display_epoch],'m-')\n",
    "\n",
    "plt.legend([r'$M_C$',r'$M_I$',r'$M_J$',r'$M_F$'])\n",
    "from mpl_toolkits.axes_grid1.inset_locator import zoomed_inset_axes\n",
    "axins = zoomed_inset_axes(ax, 4, loc=8, bbox_to_anchor=(180,0,1,1), borderpad=6) # zoom-factor: 2.5, location: upper-left\n",
    "axins.plot(t, cental_model_hist.history['categorical_accuracy'][:display_epoch],'g-',x_1_individual_hist.history['categorical_accuracy'][:display_epoch],'b-',x_2_individual_hist.history['categorical_accuracy'][:display_epoch],'r-',fed_sparse_categorical_accuracy[:display_epoch],'m-')\n",
    "axins.set_yticks(np.arange(0.85, 0.9, step=0.025))\n",
    "x1, x2, y1, y2 = 900, 1000, 0.85, 0.92 # specify the limits\n",
    "\n",
    "mark_inset(ax, axins, loc1=2, loc2=4, fc=\"none\", ec=\"0.5\")\n",
    "axins.set_xlim(x1, x2) # apply the x-limits\n",
    "axins.set_ylim(y1, y2) # apply the y-limits\n",
    "plt.show()"
   ]
  },
  {
   "cell_type": "code",
   "execution_count": 97,
   "id": "e3e915ed-b2fc-47fe-b74d-7470969b715d",
   "metadata": {
    "colab": {
     "base_uri": "https://localhost:8080/",
     "height": 176
    },
    "colab_type": "code",
    "executionInfo": {
     "elapsed": 926,
     "status": "ok",
     "timestamp": 1595219899100,
     "user": {
      "displayName": "MAJEED UMER[학생](대학원 컴퓨터공학과) ‍",
      "photoUrl": "",
      "userId": "09904507153320373005"
     },
     "user_tz": -540
    },
    "id": "vhIAu3E3RjcN",
    "outputId": "7dcde2ba-f3bf-4a8f-c64f-f972e318d805"
   },
   "outputs": [
    {
     "data": {
      "image/png": "[encoded data removed]",
      "text/plain": [
       "<Figure size 340.157x170.079 with 2 Axes>"
      ]
     },
     "metadata": {
      "needs_background": "light",
      "tags": []
     },
     "output_type": "display_data"
    }
   ],
   "source": [
    "fig, ax = plt.subplots(figsize=(12.0/2.54, 6.0/2.54)) # create a new figure180 with a default 111 subplot\n",
    "ax.plot(t, cental_model_hist.history['val_categorical_accuracy'][:display_epoch],'g-',x_1_individual_hist.history['val_categorical_accuracy'][:display_epoch],'b-',x_2_individual_hist.history['val_categorical_accuracy'][:display_epoch],'r-',fed_val_sparse_categorical_accuracy[:display_epoch],'m-')\n",
    "ax.set_yticks(np.arange(0.3, 0.85, step=0.1))\n",
    "plt.legend([r'$M_C$',r'$M_I$',r'$M_J$',r'$M_F$'])\n",
    "from mpl_toolkits.axes_grid1.inset_locator import zoomed_inset_axes\n",
    "axins = zoomed_inset_axes(ax, 4, loc=8, bbox_to_anchor=(180,0,1,1), borderpad=4) # zoom-factor: 2.5, location: upper-left\n",
    "axins.plot(t, cental_model_hist.history['val_categorical_accuracy'][:display_epoch],'g-',x_1_individual_hist.history['val_categorical_accuracy'][:display_epoch],'b-',x_2_individual_hist.history['val_categorical_accuracy'][:display_epoch],'r-',fed_val_sparse_categorical_accuracy[:display_epoch],'m-')\n",
    "axins.set_yticks(np.arange(0.76, 0.83, step=0.02))\n",
    "x1, x2, y1, y2 = 900, 1000, 0.75, 0.83 # specify the limits\n",
    "\n",
    "mark_inset(ax, axins, loc1=2, loc2=4, fc=\"none\", ec=\"0.5\")\n",
    "axins.set_xlim(x1, x2) # apply the x-limits\n",
    "axins.set_ylim(y1, y2) # apply the y-limits\n",
    "plt.show()"
   ]
  }
 ],
 "metadata": {
  "kernelspec": {
   "display_name": "dle",
   "language": "python",
   "name": "dle"
  },
  "language_info": {
   "codemirror_mode": {
    "name": "ipython",
    "version": 3
   },
   "file_extension": ".py",
   "mimetype": "text/x-python",
   "name": "python",
   "nbconvert_exporter": "python",
   "pygments_lexer": "ipython3",
   "version": "3.10.12"
  }
 },
 "nbformat": 4,
 "nbformat_minor": 5
}
